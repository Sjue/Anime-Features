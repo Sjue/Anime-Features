{
 "cells": [
  {
   "cell_type": "code",
   "execution_count": 1,
   "id": "7fff6559-637d-4fcf-a022-4fef042b2aa7",
   "metadata": {},
   "outputs": [],
   "source": [
    "import pandas as pd\n",
    "import matplotlib.pyplot as plt\n",
    "import seaborn as sns\n",
    "import os\n",
    "\n",
    "from files.sb_utils import save_file"
   ]
  },
  {
   "cell_type": "code",
   "execution_count": 7,
   "id": "f1bf29a1-b55a-4d05-b4c0-12ca23ce50d7",
   "metadata": {},
   "outputs": [],
   "source": [
    "#delete path for privacy reasons\n",
    "#load in anime dataset\n",
    "anime = pd.read_csv(r'C:\\Users\\sydne\\Desktop\\Springboard\\Cap2\\Data\\anime_data.csv')"
   ]
  },
  {
   "cell_type": "code",
   "execution_count": null,
   "id": "3d27db6a-5232-4e11-8e52-0810381c7fb1",
   "metadata": {},
   "outputs": [],
   "source": [
    "manga = pd"
   ]
  }
 ],
 "metadata": {
  "kernelspec": {
   "display_name": "Python 3 (ipykernel)",
   "language": "python",
   "name": "python3"
  },
  "language_info": {
   "codemirror_mode": {
    "name": "ipython",
    "version": 3
   },
   "file_extension": ".py",
   "mimetype": "text/x-python",
   "name": "python",
   "nbconvert_exporter": "python",
   "pygments_lexer": "ipython3",
   "version": "3.11.7"
  }
 },
 "nbformat": 4,
 "nbformat_minor": 5
}
