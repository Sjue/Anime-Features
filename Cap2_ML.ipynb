{
 "cells": [
  {
   "cell_type": "code",
   "execution_count": 1,
   "metadata": {},
   "outputs": [],
   "source": [
    "import pandas as pd\n",
    "import numpy as np\n",
    "import os\n",
    "import pickle\n",
    "import matplotlib.pyplot as plt\n",
    "import seaborn as sns\n",
    "from sklearn import __version__ as sklearn_version\n",
    "from sklearn.decomposition import PCA\n",
    "from sklearn.preprocessing import scale\n",
    "from sklearn.model_selection import train_test_split, cross_validate, GridSearchCV, learning_curve, KFold, cross_val_score\n",
    "from sklearn.preprocessing import StandardScaler, MinMaxScaler\n",
    "from sklearn.dummy import DummyRegressor\n",
    "from sklearn.linear_model import LinearRegression\n",
    "from sklearn.neighbors import KNeighborsClassifier\n",
    "from sklearn.linear_model import LogisticRegression\n",
    "\n",
    "from sklearn.ensemble import RandomForestRegressor\n",
    "from sklearn.metrics import r2_score, mean_squared_error, mean_absolute_error\n",
    "from sklearn.pipeline import make_pipeline\n",
    "from sklearn.impute import SimpleImputer\n",
    "from sklearn.feature_selection import SelectKBest, f_regression, mutual_info_regression\n",
    "import datetime\n",
    "sns.set()\n",
    "from files.sb_utils import save_file"
   ]
  },
  {
   "cell_type": "code",
   "execution_count": 2,
   "metadata": {},
   "outputs": [],
   "source": [
    "anime_df = pd.read_csv('../Data/anime_data.csv')"
   ]
  },
  {
   "cell_type": "code",
   "execution_count": 3,
   "metadata": {},
   "outputs": [
    {
     "data": {
      "text/html": [
       "<div>\n",
       "<style scoped>\n",
       "    .dataframe tbody tr th:only-of-type {\n",
       "        vertical-align: middle;\n",
       "    }\n",
       "\n",
       "    .dataframe tbody tr th {\n",
       "        vertical-align: top;\n",
       "    }\n",
       "\n",
       "    .dataframe thead th {\n",
       "        text-align: right;\n",
       "    }\n",
       "</style>\n",
       "<table border=\"1\" class=\"dataframe\">\n",
       "  <thead>\n",
       "    <tr style=\"text-align: right;\">\n",
       "      <th></th>\n",
       "      <th>0</th>\n",
       "      <th>1</th>\n",
       "      <th>2</th>\n",
       "      <th>3</th>\n",
       "      <th>4</th>\n",
       "    </tr>\n",
       "  </thead>\n",
       "  <tbody>\n",
       "    <tr>\n",
       "      <th>anime_id</th>\n",
       "      <td>5114</td>\n",
       "      <td>11061</td>\n",
       "      <td>38524</td>\n",
       "      <td>9253</td>\n",
       "      <td>28851</td>\n",
       "    </tr>\n",
       "    <tr>\n",
       "      <th>title</th>\n",
       "      <td>Fullmetal Alchemist: Brotherhood</td>\n",
       "      <td>Hunter x Hunter (2011)</td>\n",
       "      <td>Shingeki no Kyojin Season 3 Part 2</td>\n",
       "      <td>Steins;Gate</td>\n",
       "      <td>Koe no Katachi</td>\n",
       "    </tr>\n",
       "    <tr>\n",
       "      <th>type</th>\n",
       "      <td>tv</td>\n",
       "      <td>tv</td>\n",
       "      <td>tv</td>\n",
       "      <td>tv</td>\n",
       "      <td>movie</td>\n",
       "    </tr>\n",
       "    <tr>\n",
       "      <th>score</th>\n",
       "      <td>9.1</td>\n",
       "      <td>9.04</td>\n",
       "      <td>9.05</td>\n",
       "      <td>9.07</td>\n",
       "      <td>8.94</td>\n",
       "    </tr>\n",
       "    <tr>\n",
       "      <th>scored_by</th>\n",
       "      <td>2037075</td>\n",
       "      <td>1671587</td>\n",
       "      <td>1491491</td>\n",
       "      <td>1348232</td>\n",
       "      <td>1540277</td>\n",
       "    </tr>\n",
       "    <tr>\n",
       "      <th>status</th>\n",
       "      <td>finished_airing</td>\n",
       "      <td>finished_airing</td>\n",
       "      <td>finished_airing</td>\n",
       "      <td>finished_airing</td>\n",
       "      <td>finished_airing</td>\n",
       "    </tr>\n",
       "    <tr>\n",
       "      <th>episodes</th>\n",
       "      <td>64.0</td>\n",
       "      <td>148.0</td>\n",
       "      <td>10.0</td>\n",
       "      <td>24.0</td>\n",
       "      <td>1.0</td>\n",
       "    </tr>\n",
       "    <tr>\n",
       "      <th>source</th>\n",
       "      <td>manga</td>\n",
       "      <td>manga</td>\n",
       "      <td>manga</td>\n",
       "      <td>visual_novel</td>\n",
       "      <td>manga</td>\n",
       "    </tr>\n",
       "    <tr>\n",
       "      <th>rating</th>\n",
       "      <td>r</td>\n",
       "      <td>pg_13</td>\n",
       "      <td>r</td>\n",
       "      <td>pg_13</td>\n",
       "      <td>pg_13</td>\n",
       "    </tr>\n",
       "    <tr>\n",
       "      <th>sfw</th>\n",
       "      <td>True</td>\n",
       "      <td>True</td>\n",
       "      <td>True</td>\n",
       "      <td>True</td>\n",
       "      <td>True</td>\n",
       "    </tr>\n",
       "    <tr>\n",
       "      <th>created_at</th>\n",
       "      <td>2008-08-21 03:35:22+00:00</td>\n",
       "      <td>2011-07-27 08:41:39+00:00</td>\n",
       "      <td>2018-10-14 18:13:45+00:00</td>\n",
       "      <td>2010-07-26 09:23:40+00:00</td>\n",
       "      <td>2014-12-15 08:00:46+00:00</td>\n",
       "    </tr>\n",
       "    <tr>\n",
       "      <th>start_year</th>\n",
       "      <td>2009.0</td>\n",
       "      <td>2011.0</td>\n",
       "      <td>2019.0</td>\n",
       "      <td>2011.0</td>\n",
       "      <td>2016.0</td>\n",
       "    </tr>\n",
       "    <tr>\n",
       "      <th>start_season</th>\n",
       "      <td>spring</td>\n",
       "      <td>fall</td>\n",
       "      <td>spring</td>\n",
       "      <td>spring</td>\n",
       "      <td>summer</td>\n",
       "    </tr>\n",
       "    <tr>\n",
       "      <th>real_end_date</th>\n",
       "      <td>7/4/2010</td>\n",
       "      <td>9/24/2014</td>\n",
       "      <td>7/1/2019</td>\n",
       "      <td>9/14/2011</td>\n",
       "      <td>9/17/2016</td>\n",
       "    </tr>\n",
       "    <tr>\n",
       "      <th>genres</th>\n",
       "      <td>Action, Adventure, Drama, Fantasy</td>\n",
       "      <td>Action, Adventure, Fantasy</td>\n",
       "      <td>Action, Drama</td>\n",
       "      <td>Drama, Sci-Fi, Suspense</td>\n",
       "      <td>Award Winning, Drama</td>\n",
       "    </tr>\n",
       "    <tr>\n",
       "      <th>themes</th>\n",
       "      <td>Military</td>\n",
       "      <td>NaN</td>\n",
       "      <td>Gore, Military, Survival</td>\n",
       "      <td>Psychological, Time Travel</td>\n",
       "      <td>Romantic Subtext</td>\n",
       "    </tr>\n",
       "    <tr>\n",
       "      <th>demographics</th>\n",
       "      <td>Shounen</td>\n",
       "      <td>Shounen</td>\n",
       "      <td>Shounen</td>\n",
       "      <td>NaN</td>\n",
       "      <td>Shounen</td>\n",
       "    </tr>\n",
       "    <tr>\n",
       "      <th>studios</th>\n",
       "      <td>Bones</td>\n",
       "      <td>Madhouse</td>\n",
       "      <td>Wit Studio</td>\n",
       "      <td>White Fox</td>\n",
       "      <td>Kyoto Animation</td>\n",
       "    </tr>\n",
       "    <tr>\n",
       "      <th>producers</th>\n",
       "      <td>Aniplex, Square Enix, Mainichi Broadcasting Sy...</td>\n",
       "      <td>VAP, Nippon Television Network, Shueisha</td>\n",
       "      <td>Production I.G, Dentsu, Mainichi Broadcasting ...</td>\n",
       "      <td>Frontier Works, Media Factory, Kadokawa Shoten...</td>\n",
       "      <td>Shochiku, Pony Canyon, Kodansha, ABC Animation...</td>\n",
       "    </tr>\n",
       "    <tr>\n",
       "      <th>licensors</th>\n",
       "      <td>Funimation, Aniplex of America</td>\n",
       "      <td>VIZ Media</td>\n",
       "      <td>Funimation</td>\n",
       "      <td>Funimation</td>\n",
       "      <td>Eleven Arts, NYAV Post</td>\n",
       "    </tr>\n",
       "  </tbody>\n",
       "</table>\n",
       "</div>"
      ],
      "text/plain": [
       "                                                               0  \\\n",
       "anime_id                                                    5114   \n",
       "title                           Fullmetal Alchemist: Brotherhood   \n",
       "type                                                          tv   \n",
       "score                                                        9.1   \n",
       "scored_by                                                2037075   \n",
       "status                                           finished_airing   \n",
       "episodes                                                    64.0   \n",
       "source                                                     manga   \n",
       "rating                                                         r   \n",
       "sfw                                                         True   \n",
       "created_at                             2008-08-21 03:35:22+00:00   \n",
       "start_year                                                2009.0   \n",
       "start_season                                              spring   \n",
       "real_end_date                                           7/4/2010   \n",
       "genres                         Action, Adventure, Drama, Fantasy   \n",
       "themes                                                  Military   \n",
       "demographics                                             Shounen   \n",
       "studios                                                    Bones   \n",
       "producers      Aniplex, Square Enix, Mainichi Broadcasting Sy...   \n",
       "licensors                         Funimation, Aniplex of America   \n",
       "\n",
       "                                                      1  \\\n",
       "anime_id                                          11061   \n",
       "title                            Hunter x Hunter (2011)   \n",
       "type                                                 tv   \n",
       "score                                              9.04   \n",
       "scored_by                                       1671587   \n",
       "status                                  finished_airing   \n",
       "episodes                                          148.0   \n",
       "source                                            manga   \n",
       "rating                                            pg_13   \n",
       "sfw                                                True   \n",
       "created_at                    2011-07-27 08:41:39+00:00   \n",
       "start_year                                       2011.0   \n",
       "start_season                                       fall   \n",
       "real_end_date                                 9/24/2014   \n",
       "genres                       Action, Adventure, Fantasy   \n",
       "themes                                              NaN   \n",
       "demographics                                    Shounen   \n",
       "studios                                        Madhouse   \n",
       "producers      VAP, Nippon Television Network, Shueisha   \n",
       "licensors                                     VIZ Media   \n",
       "\n",
       "                                                               2  \\\n",
       "anime_id                                                   38524   \n",
       "title                         Shingeki no Kyojin Season 3 Part 2   \n",
       "type                                                          tv   \n",
       "score                                                       9.05   \n",
       "scored_by                                                1491491   \n",
       "status                                           finished_airing   \n",
       "episodes                                                    10.0   \n",
       "source                                                     manga   \n",
       "rating                                                         r   \n",
       "sfw                                                         True   \n",
       "created_at                             2018-10-14 18:13:45+00:00   \n",
       "start_year                                                2019.0   \n",
       "start_season                                              spring   \n",
       "real_end_date                                           7/1/2019   \n",
       "genres                                             Action, Drama   \n",
       "themes                                  Gore, Military, Survival   \n",
       "demographics                                             Shounen   \n",
       "studios                                               Wit Studio   \n",
       "producers      Production I.G, Dentsu, Mainichi Broadcasting ...   \n",
       "licensors                                             Funimation   \n",
       "\n",
       "                                                               3  \\\n",
       "anime_id                                                    9253   \n",
       "title                                                Steins;Gate   \n",
       "type                                                          tv   \n",
       "score                                                       9.07   \n",
       "scored_by                                                1348232   \n",
       "status                                           finished_airing   \n",
       "episodes                                                    24.0   \n",
       "source                                              visual_novel   \n",
       "rating                                                     pg_13   \n",
       "sfw                                                         True   \n",
       "created_at                             2010-07-26 09:23:40+00:00   \n",
       "start_year                                                2011.0   \n",
       "start_season                                              spring   \n",
       "real_end_date                                          9/14/2011   \n",
       "genres                                   Drama, Sci-Fi, Suspense   \n",
       "themes                                Psychological, Time Travel   \n",
       "demographics                                                 NaN   \n",
       "studios                                                White Fox   \n",
       "producers      Frontier Works, Media Factory, Kadokawa Shoten...   \n",
       "licensors                                             Funimation   \n",
       "\n",
       "                                                               4  \n",
       "anime_id                                                   28851  \n",
       "title                                             Koe no Katachi  \n",
       "type                                                       movie  \n",
       "score                                                       8.94  \n",
       "scored_by                                                1540277  \n",
       "status                                           finished_airing  \n",
       "episodes                                                     1.0  \n",
       "source                                                     manga  \n",
       "rating                                                     pg_13  \n",
       "sfw                                                         True  \n",
       "created_at                             2014-12-15 08:00:46+00:00  \n",
       "start_year                                                2016.0  \n",
       "start_season                                              summer  \n",
       "real_end_date                                          9/17/2016  \n",
       "genres                                      Award Winning, Drama  \n",
       "themes                                          Romantic Subtext  \n",
       "demographics                                             Shounen  \n",
       "studios                                          Kyoto Animation  \n",
       "producers      Shochiku, Pony Canyon, Kodansha, ABC Animation...  \n",
       "licensors                                 Eleven Arts, NYAV Post  "
      ]
     },
     "execution_count": 3,
     "metadata": {},
     "output_type": "execute_result"
    }
   ],
   "source": [
    "anime_df.head().T"
   ]
  },
  {
   "cell_type": "markdown",
   "metadata": {},
   "source": [
    "Before we start trining, I will remove the title and anime ID and create a new DF"
   ]
  },
  {
   "cell_type": "code",
   "execution_count": 4,
   "metadata": {},
   "outputs": [
    {
     "data": {
      "text/html": [
       "<div>\n",
       "<style scoped>\n",
       "    .dataframe tbody tr th:only-of-type {\n",
       "        vertical-align: middle;\n",
       "    }\n",
       "\n",
       "    .dataframe tbody tr th {\n",
       "        vertical-align: top;\n",
       "    }\n",
       "\n",
       "    .dataframe thead th {\n",
       "        text-align: right;\n",
       "    }\n",
       "</style>\n",
       "<table border=\"1\" class=\"dataframe\">\n",
       "  <thead>\n",
       "    <tr style=\"text-align: right;\">\n",
       "      <th></th>\n",
       "      <th>type</th>\n",
       "      <th>score</th>\n",
       "      <th>source</th>\n",
       "      <th>rating</th>\n",
       "      <th>genres</th>\n",
       "      <th>themes</th>\n",
       "      <th>demographics</th>\n",
       "      <th>studios</th>\n",
       "      <th>producers</th>\n",
       "      <th>licensors</th>\n",
       "    </tr>\n",
       "  </thead>\n",
       "  <tbody>\n",
       "    <tr>\n",
       "      <th>0</th>\n",
       "      <td>tv</td>\n",
       "      <td>9.10</td>\n",
       "      <td>manga</td>\n",
       "      <td>r</td>\n",
       "      <td>Action, Adventure, Drama, Fantasy</td>\n",
       "      <td>Military</td>\n",
       "      <td>Shounen</td>\n",
       "      <td>Bones</td>\n",
       "      <td>Aniplex, Square Enix, Mainichi Broadcasting Sy...</td>\n",
       "      <td>Funimation, Aniplex of America</td>\n",
       "    </tr>\n",
       "    <tr>\n",
       "      <th>1</th>\n",
       "      <td>tv</td>\n",
       "      <td>9.04</td>\n",
       "      <td>manga</td>\n",
       "      <td>pg_13</td>\n",
       "      <td>Action, Adventure, Fantasy</td>\n",
       "      <td>NaN</td>\n",
       "      <td>Shounen</td>\n",
       "      <td>Madhouse</td>\n",
       "      <td>VAP, Nippon Television Network, Shueisha</td>\n",
       "      <td>VIZ Media</td>\n",
       "    </tr>\n",
       "    <tr>\n",
       "      <th>2</th>\n",
       "      <td>tv</td>\n",
       "      <td>9.05</td>\n",
       "      <td>manga</td>\n",
       "      <td>r</td>\n",
       "      <td>Action, Drama</td>\n",
       "      <td>Gore, Military, Survival</td>\n",
       "      <td>Shounen</td>\n",
       "      <td>Wit Studio</td>\n",
       "      <td>Production I.G, Dentsu, Mainichi Broadcasting ...</td>\n",
       "      <td>Funimation</td>\n",
       "    </tr>\n",
       "    <tr>\n",
       "      <th>3</th>\n",
       "      <td>tv</td>\n",
       "      <td>9.07</td>\n",
       "      <td>visual_novel</td>\n",
       "      <td>pg_13</td>\n",
       "      <td>Drama, Sci-Fi, Suspense</td>\n",
       "      <td>Psychological, Time Travel</td>\n",
       "      <td>NaN</td>\n",
       "      <td>White Fox</td>\n",
       "      <td>Frontier Works, Media Factory, Kadokawa Shoten...</td>\n",
       "      <td>Funimation</td>\n",
       "    </tr>\n",
       "    <tr>\n",
       "      <th>4</th>\n",
       "      <td>movie</td>\n",
       "      <td>8.94</td>\n",
       "      <td>manga</td>\n",
       "      <td>pg_13</td>\n",
       "      <td>Award Winning, Drama</td>\n",
       "      <td>Romantic Subtext</td>\n",
       "      <td>Shounen</td>\n",
       "      <td>Kyoto Animation</td>\n",
       "      <td>Shochiku, Pony Canyon, Kodansha, ABC Animation...</td>\n",
       "      <td>Eleven Arts, NYAV Post</td>\n",
       "    </tr>\n",
       "    <tr>\n",
       "      <th>...</th>\n",
       "      <td>...</td>\n",
       "      <td>...</td>\n",
       "      <td>...</td>\n",
       "      <td>...</td>\n",
       "      <td>...</td>\n",
       "      <td>...</td>\n",
       "      <td>...</td>\n",
       "      <td>...</td>\n",
       "      <td>...</td>\n",
       "      <td>...</td>\n",
       "    </tr>\n",
       "    <tr>\n",
       "      <th>14459</th>\n",
       "      <td>movie</td>\n",
       "      <td>5.01</td>\n",
       "      <td>original</td>\n",
       "      <td>pg_13</td>\n",
       "      <td>Slice of Life</td>\n",
       "      <td>NaN</td>\n",
       "      <td>NaN</td>\n",
       "      <td>NaN</td>\n",
       "      <td>NaN</td>\n",
       "      <td>NaN</td>\n",
       "    </tr>\n",
       "    <tr>\n",
       "      <th>14460</th>\n",
       "      <td>ona</td>\n",
       "      <td>4.84</td>\n",
       "      <td>NaN</td>\n",
       "      <td>g</td>\n",
       "      <td>Comedy</td>\n",
       "      <td>NaN</td>\n",
       "      <td>NaN</td>\n",
       "      <td>Kachidoki Studio</td>\n",
       "      <td>NaN</td>\n",
       "      <td>NaN</td>\n",
       "    </tr>\n",
       "    <tr>\n",
       "      <th>14461</th>\n",
       "      <td>movie</td>\n",
       "      <td>4.90</td>\n",
       "      <td>original</td>\n",
       "      <td>g</td>\n",
       "      <td>Avant Garde</td>\n",
       "      <td>NaN</td>\n",
       "      <td>NaN</td>\n",
       "      <td>NaN</td>\n",
       "      <td>NaN</td>\n",
       "      <td>NaN</td>\n",
       "    </tr>\n",
       "    <tr>\n",
       "      <th>14462</th>\n",
       "      <td>ona</td>\n",
       "      <td>5.08</td>\n",
       "      <td>radio</td>\n",
       "      <td>g</td>\n",
       "      <td>Comedy</td>\n",
       "      <td>NaN</td>\n",
       "      <td>NaN</td>\n",
       "      <td>NaN</td>\n",
       "      <td>NaN</td>\n",
       "      <td>NaN</td>\n",
       "    </tr>\n",
       "    <tr>\n",
       "      <th>14463</th>\n",
       "      <td>ona</td>\n",
       "      <td>4.83</td>\n",
       "      <td>original</td>\n",
       "      <td>g</td>\n",
       "      <td>Slice of Life</td>\n",
       "      <td>NaN</td>\n",
       "      <td>Kids</td>\n",
       "      <td>The Answer Studio</td>\n",
       "      <td>7ji</td>\n",
       "      <td>NaN</td>\n",
       "    </tr>\n",
       "  </tbody>\n",
       "</table>\n",
       "<p>14464 rows × 10 columns</p>\n",
       "</div>"
      ],
      "text/plain": [
       "        type  score        source rating                             genres  \\\n",
       "0         tv   9.10         manga      r  Action, Adventure, Drama, Fantasy   \n",
       "1         tv   9.04         manga  pg_13         Action, Adventure, Fantasy   \n",
       "2         tv   9.05         manga      r                      Action, Drama   \n",
       "3         tv   9.07  visual_novel  pg_13            Drama, Sci-Fi, Suspense   \n",
       "4      movie   8.94         manga  pg_13               Award Winning, Drama   \n",
       "...      ...    ...           ...    ...                                ...   \n",
       "14459  movie   5.01      original  pg_13                      Slice of Life   \n",
       "14460    ona   4.84           NaN      g                             Comedy   \n",
       "14461  movie   4.90      original      g                        Avant Garde   \n",
       "14462    ona   5.08         radio      g                             Comedy   \n",
       "14463    ona   4.83      original      g                      Slice of Life   \n",
       "\n",
       "                           themes demographics            studios  \\\n",
       "0                        Military      Shounen              Bones   \n",
       "1                             NaN      Shounen           Madhouse   \n",
       "2        Gore, Military, Survival      Shounen         Wit Studio   \n",
       "3      Psychological, Time Travel          NaN          White Fox   \n",
       "4                Romantic Subtext      Shounen    Kyoto Animation   \n",
       "...                           ...          ...                ...   \n",
       "14459                         NaN          NaN                NaN   \n",
       "14460                         NaN          NaN   Kachidoki Studio   \n",
       "14461                         NaN          NaN                NaN   \n",
       "14462                         NaN          NaN                NaN   \n",
       "14463                         NaN         Kids  The Answer Studio   \n",
       "\n",
       "                                               producers  \\\n",
       "0      Aniplex, Square Enix, Mainichi Broadcasting Sy...   \n",
       "1               VAP, Nippon Television Network, Shueisha   \n",
       "2      Production I.G, Dentsu, Mainichi Broadcasting ...   \n",
       "3      Frontier Works, Media Factory, Kadokawa Shoten...   \n",
       "4      Shochiku, Pony Canyon, Kodansha, ABC Animation...   \n",
       "...                                                  ...   \n",
       "14459                                                NaN   \n",
       "14460                                                NaN   \n",
       "14461                                                NaN   \n",
       "14462                                                NaN   \n",
       "14463                                                7ji   \n",
       "\n",
       "                            licensors  \n",
       "0      Funimation, Aniplex of America  \n",
       "1                           VIZ Media  \n",
       "2                          Funimation  \n",
       "3                          Funimation  \n",
       "4              Eleven Arts, NYAV Post  \n",
       "...                               ...  \n",
       "14459                             NaN  \n",
       "14460                             NaN  \n",
       "14461                             NaN  \n",
       "14462                             NaN  \n",
       "14463                             NaN  \n",
       "\n",
       "[14464 rows x 10 columns]"
      ]
     },
     "execution_count": 4,
     "metadata": {},
     "output_type": "execute_result"
    }
   ],
   "source": [
    "new_anime_df = anime_df.drop(['anime_id', 'title', 'created_at', 'real_end_date', 'scored_by', 'status', 'episodes','start_year', 'start_season', 'sfw'], axis =1)\n",
    "new_anime_df.head()\n",
    "new_anime_df.dropna(how = 'all')"
   ]
  },
  {
   "cell_type": "markdown",
   "metadata": {},
   "source": [
    "# Make dummy variables for our categorical variables"
   ]
  },
  {
   "cell_type": "code",
   "execution_count": 5,
   "metadata": {},
   "outputs": [
    {
     "data": {
      "text/html": [
       "<div>\n",
       "<style scoped>\n",
       "    .dataframe tbody tr th:only-of-type {\n",
       "        vertical-align: middle;\n",
       "    }\n",
       "\n",
       "    .dataframe tbody tr th {\n",
       "        vertical-align: top;\n",
       "    }\n",
       "\n",
       "    .dataframe thead th {\n",
       "        text-align: right;\n",
       "    }\n",
       "</style>\n",
       "<table border=\"1\" class=\"dataframe\">\n",
       "  <thead>\n",
       "    <tr style=\"text-align: right;\">\n",
       "      <th></th>\n",
       "      <th>type</th>\n",
       "      <th>score</th>\n",
       "      <th>source</th>\n",
       "      <th>rating</th>\n",
       "      <th>demographics</th>\n",
       "      <th>producers</th>\n",
       "      <th>licensors</th>\n",
       "      <th>genre_Action</th>\n",
       "      <th>genre_Adventure</th>\n",
       "      <th>genre_Avant Garde</th>\n",
       "      <th>...</th>\n",
       "      <th>studio_iDRAGONS Creative Studio</th>\n",
       "      <th>studio_ixtl</th>\n",
       "      <th>studio_l-a-unch・BOX</th>\n",
       "      <th>studio_monofilmo</th>\n",
       "      <th>studio_production doA</th>\n",
       "      <th>studio_studio MOTHER</th>\n",
       "      <th>studio_team Yamahitsuji</th>\n",
       "      <th>studio_teamKG</th>\n",
       "      <th>studio_ufotable</th>\n",
       "      <th>studio_yell</th>\n",
       "    </tr>\n",
       "  </thead>\n",
       "  <tbody>\n",
       "    <tr>\n",
       "      <th>0</th>\n",
       "      <td>tv</td>\n",
       "      <td>9.10</td>\n",
       "      <td>manga</td>\n",
       "      <td>r</td>\n",
       "      <td>Shounen</td>\n",
       "      <td>Aniplex, Square Enix, Mainichi Broadcasting Sy...</td>\n",
       "      <td>Funimation, Aniplex of America</td>\n",
       "      <td>True</td>\n",
       "      <td>True</td>\n",
       "      <td>False</td>\n",
       "      <td>...</td>\n",
       "      <td>False</td>\n",
       "      <td>False</td>\n",
       "      <td>False</td>\n",
       "      <td>False</td>\n",
       "      <td>False</td>\n",
       "      <td>False</td>\n",
       "      <td>False</td>\n",
       "      <td>False</td>\n",
       "      <td>False</td>\n",
       "      <td>False</td>\n",
       "    </tr>\n",
       "    <tr>\n",
       "      <th>1</th>\n",
       "      <td>tv</td>\n",
       "      <td>9.04</td>\n",
       "      <td>manga</td>\n",
       "      <td>pg_13</td>\n",
       "      <td>Shounen</td>\n",
       "      <td>VAP, Nippon Television Network, Shueisha</td>\n",
       "      <td>VIZ Media</td>\n",
       "      <td>True</td>\n",
       "      <td>True</td>\n",
       "      <td>False</td>\n",
       "      <td>...</td>\n",
       "      <td>False</td>\n",
       "      <td>False</td>\n",
       "      <td>False</td>\n",
       "      <td>False</td>\n",
       "      <td>False</td>\n",
       "      <td>False</td>\n",
       "      <td>False</td>\n",
       "      <td>False</td>\n",
       "      <td>False</td>\n",
       "      <td>False</td>\n",
       "    </tr>\n",
       "    <tr>\n",
       "      <th>2</th>\n",
       "      <td>tv</td>\n",
       "      <td>9.05</td>\n",
       "      <td>manga</td>\n",
       "      <td>r</td>\n",
       "      <td>Shounen</td>\n",
       "      <td>Production I.G, Dentsu, Mainichi Broadcasting ...</td>\n",
       "      <td>Funimation</td>\n",
       "      <td>True</td>\n",
       "      <td>False</td>\n",
       "      <td>False</td>\n",
       "      <td>...</td>\n",
       "      <td>False</td>\n",
       "      <td>False</td>\n",
       "      <td>False</td>\n",
       "      <td>False</td>\n",
       "      <td>False</td>\n",
       "      <td>False</td>\n",
       "      <td>False</td>\n",
       "      <td>False</td>\n",
       "      <td>False</td>\n",
       "      <td>False</td>\n",
       "    </tr>\n",
       "    <tr>\n",
       "      <th>3</th>\n",
       "      <td>tv</td>\n",
       "      <td>9.07</td>\n",
       "      <td>visual_novel</td>\n",
       "      <td>pg_13</td>\n",
       "      <td>NaN</td>\n",
       "      <td>Frontier Works, Media Factory, Kadokawa Shoten...</td>\n",
       "      <td>Funimation</td>\n",
       "      <td>False</td>\n",
       "      <td>False</td>\n",
       "      <td>False</td>\n",
       "      <td>...</td>\n",
       "      <td>False</td>\n",
       "      <td>False</td>\n",
       "      <td>False</td>\n",
       "      <td>False</td>\n",
       "      <td>False</td>\n",
       "      <td>False</td>\n",
       "      <td>False</td>\n",
       "      <td>False</td>\n",
       "      <td>False</td>\n",
       "      <td>False</td>\n",
       "    </tr>\n",
       "    <tr>\n",
       "      <th>4</th>\n",
       "      <td>movie</td>\n",
       "      <td>8.94</td>\n",
       "      <td>manga</td>\n",
       "      <td>pg_13</td>\n",
       "      <td>Shounen</td>\n",
       "      <td>Shochiku, Pony Canyon, Kodansha, ABC Animation...</td>\n",
       "      <td>Eleven Arts, NYAV Post</td>\n",
       "      <td>False</td>\n",
       "      <td>False</td>\n",
       "      <td>False</td>\n",
       "      <td>...</td>\n",
       "      <td>False</td>\n",
       "      <td>False</td>\n",
       "      <td>False</td>\n",
       "      <td>False</td>\n",
       "      <td>False</td>\n",
       "      <td>False</td>\n",
       "      <td>False</td>\n",
       "      <td>False</td>\n",
       "      <td>False</td>\n",
       "      <td>False</td>\n",
       "    </tr>\n",
       "    <tr>\n",
       "      <th>...</th>\n",
       "      <td>...</td>\n",
       "      <td>...</td>\n",
       "      <td>...</td>\n",
       "      <td>...</td>\n",
       "      <td>...</td>\n",
       "      <td>...</td>\n",
       "      <td>...</td>\n",
       "      <td>...</td>\n",
       "      <td>...</td>\n",
       "      <td>...</td>\n",
       "      <td>...</td>\n",
       "      <td>...</td>\n",
       "      <td>...</td>\n",
       "      <td>...</td>\n",
       "      <td>...</td>\n",
       "      <td>...</td>\n",
       "      <td>...</td>\n",
       "      <td>...</td>\n",
       "      <td>...</td>\n",
       "      <td>...</td>\n",
       "      <td>...</td>\n",
       "    </tr>\n",
       "    <tr>\n",
       "      <th>14459</th>\n",
       "      <td>movie</td>\n",
       "      <td>5.01</td>\n",
       "      <td>original</td>\n",
       "      <td>pg_13</td>\n",
       "      <td>NaN</td>\n",
       "      <td>NaN</td>\n",
       "      <td>NaN</td>\n",
       "      <td>False</td>\n",
       "      <td>False</td>\n",
       "      <td>False</td>\n",
       "      <td>...</td>\n",
       "      <td>False</td>\n",
       "      <td>False</td>\n",
       "      <td>False</td>\n",
       "      <td>False</td>\n",
       "      <td>False</td>\n",
       "      <td>False</td>\n",
       "      <td>False</td>\n",
       "      <td>False</td>\n",
       "      <td>False</td>\n",
       "      <td>False</td>\n",
       "    </tr>\n",
       "    <tr>\n",
       "      <th>14460</th>\n",
       "      <td>ona</td>\n",
       "      <td>4.84</td>\n",
       "      <td>NaN</td>\n",
       "      <td>g</td>\n",
       "      <td>NaN</td>\n",
       "      <td>NaN</td>\n",
       "      <td>NaN</td>\n",
       "      <td>False</td>\n",
       "      <td>False</td>\n",
       "      <td>False</td>\n",
       "      <td>...</td>\n",
       "      <td>False</td>\n",
       "      <td>False</td>\n",
       "      <td>False</td>\n",
       "      <td>False</td>\n",
       "      <td>False</td>\n",
       "      <td>False</td>\n",
       "      <td>False</td>\n",
       "      <td>False</td>\n",
       "      <td>False</td>\n",
       "      <td>False</td>\n",
       "    </tr>\n",
       "    <tr>\n",
       "      <th>14461</th>\n",
       "      <td>movie</td>\n",
       "      <td>4.90</td>\n",
       "      <td>original</td>\n",
       "      <td>g</td>\n",
       "      <td>NaN</td>\n",
       "      <td>NaN</td>\n",
       "      <td>NaN</td>\n",
       "      <td>False</td>\n",
       "      <td>False</td>\n",
       "      <td>True</td>\n",
       "      <td>...</td>\n",
       "      <td>False</td>\n",
       "      <td>False</td>\n",
       "      <td>False</td>\n",
       "      <td>False</td>\n",
       "      <td>False</td>\n",
       "      <td>False</td>\n",
       "      <td>False</td>\n",
       "      <td>False</td>\n",
       "      <td>False</td>\n",
       "      <td>False</td>\n",
       "    </tr>\n",
       "    <tr>\n",
       "      <th>14462</th>\n",
       "      <td>ona</td>\n",
       "      <td>5.08</td>\n",
       "      <td>radio</td>\n",
       "      <td>g</td>\n",
       "      <td>NaN</td>\n",
       "      <td>NaN</td>\n",
       "      <td>NaN</td>\n",
       "      <td>False</td>\n",
       "      <td>False</td>\n",
       "      <td>False</td>\n",
       "      <td>...</td>\n",
       "      <td>False</td>\n",
       "      <td>False</td>\n",
       "      <td>False</td>\n",
       "      <td>False</td>\n",
       "      <td>False</td>\n",
       "      <td>False</td>\n",
       "      <td>False</td>\n",
       "      <td>False</td>\n",
       "      <td>False</td>\n",
       "      <td>False</td>\n",
       "    </tr>\n",
       "    <tr>\n",
       "      <th>14463</th>\n",
       "      <td>ona</td>\n",
       "      <td>4.83</td>\n",
       "      <td>original</td>\n",
       "      <td>g</td>\n",
       "      <td>Kids</td>\n",
       "      <td>7ji</td>\n",
       "      <td>NaN</td>\n",
       "      <td>False</td>\n",
       "      <td>False</td>\n",
       "      <td>False</td>\n",
       "      <td>...</td>\n",
       "      <td>False</td>\n",
       "      <td>False</td>\n",
       "      <td>False</td>\n",
       "      <td>False</td>\n",
       "      <td>False</td>\n",
       "      <td>False</td>\n",
       "      <td>False</td>\n",
       "      <td>False</td>\n",
       "      <td>False</td>\n",
       "      <td>False</td>\n",
       "    </tr>\n",
       "  </tbody>\n",
       "</table>\n",
       "<p>14464 rows × 962 columns</p>\n",
       "</div>"
      ],
      "text/plain": [
       "        type  score        source rating demographics  \\\n",
       "0         tv   9.10         manga      r      Shounen   \n",
       "1         tv   9.04         manga  pg_13      Shounen   \n",
       "2         tv   9.05         manga      r      Shounen   \n",
       "3         tv   9.07  visual_novel  pg_13          NaN   \n",
       "4      movie   8.94         manga  pg_13      Shounen   \n",
       "...      ...    ...           ...    ...          ...   \n",
       "14459  movie   5.01      original  pg_13          NaN   \n",
       "14460    ona   4.84           NaN      g          NaN   \n",
       "14461  movie   4.90      original      g          NaN   \n",
       "14462    ona   5.08         radio      g          NaN   \n",
       "14463    ona   4.83      original      g         Kids   \n",
       "\n",
       "                                               producers  \\\n",
       "0      Aniplex, Square Enix, Mainichi Broadcasting Sy...   \n",
       "1               VAP, Nippon Television Network, Shueisha   \n",
       "2      Production I.G, Dentsu, Mainichi Broadcasting ...   \n",
       "3      Frontier Works, Media Factory, Kadokawa Shoten...   \n",
       "4      Shochiku, Pony Canyon, Kodansha, ABC Animation...   \n",
       "...                                                  ...   \n",
       "14459                                                NaN   \n",
       "14460                                                NaN   \n",
       "14461                                                NaN   \n",
       "14462                                                NaN   \n",
       "14463                                                7ji   \n",
       "\n",
       "                            licensors  genre_Action  genre_Adventure  \\\n",
       "0      Funimation, Aniplex of America          True             True   \n",
       "1                           VIZ Media          True             True   \n",
       "2                          Funimation          True            False   \n",
       "3                          Funimation         False            False   \n",
       "4              Eleven Arts, NYAV Post         False            False   \n",
       "...                               ...           ...              ...   \n",
       "14459                             NaN         False            False   \n",
       "14460                             NaN         False            False   \n",
       "14461                             NaN         False            False   \n",
       "14462                             NaN         False            False   \n",
       "14463                             NaN         False            False   \n",
       "\n",
       "       genre_Avant Garde  ...  studio_iDRAGONS Creative Studio  studio_ixtl  \\\n",
       "0                  False  ...                            False        False   \n",
       "1                  False  ...                            False        False   \n",
       "2                  False  ...                            False        False   \n",
       "3                  False  ...                            False        False   \n",
       "4                  False  ...                            False        False   \n",
       "...                  ...  ...                              ...          ...   \n",
       "14459              False  ...                            False        False   \n",
       "14460              False  ...                            False        False   \n",
       "14461               True  ...                            False        False   \n",
       "14462              False  ...                            False        False   \n",
       "14463              False  ...                            False        False   \n",
       "\n",
       "       studio_l-a-unch・BOX  studio_monofilmo  studio_production doA  \\\n",
       "0                    False             False                  False   \n",
       "1                    False             False                  False   \n",
       "2                    False             False                  False   \n",
       "3                    False             False                  False   \n",
       "4                    False             False                  False   \n",
       "...                    ...               ...                    ...   \n",
       "14459                False             False                  False   \n",
       "14460                False             False                  False   \n",
       "14461                False             False                  False   \n",
       "14462                False             False                  False   \n",
       "14463                False             False                  False   \n",
       "\n",
       "       studio_studio MOTHER  studio_team Yamahitsuji  studio_teamKG  \\\n",
       "0                     False                    False          False   \n",
       "1                     False                    False          False   \n",
       "2                     False                    False          False   \n",
       "3                     False                    False          False   \n",
       "4                     False                    False          False   \n",
       "...                     ...                      ...            ...   \n",
       "14459                 False                    False          False   \n",
       "14460                 False                    False          False   \n",
       "14461                 False                    False          False   \n",
       "14462                 False                    False          False   \n",
       "14463                 False                    False          False   \n",
       "\n",
       "       studio_ufotable  studio_yell  \n",
       "0                False        False  \n",
       "1                False        False  \n",
       "2                False        False  \n",
       "3                False        False  \n",
       "4                False        False  \n",
       "...                ...          ...  \n",
       "14459            False        False  \n",
       "14460            False        False  \n",
       "14461            False        False  \n",
       "14462            False        False  \n",
       "14463            False        False  \n",
       "\n",
       "[14464 rows x 962 columns]"
      ]
     },
     "execution_count": 5,
     "metadata": {},
     "output_type": "execute_result"
    }
   ],
   "source": [
    "genre_dummies = new_anime_df['genres'].str.get_dummies(', ').add_prefix('genre_').astype(bool)\n",
    "df = pd.concat([new_anime_df, genre_dummies], axis=1)\n",
    "df =df.drop('genres', axis = 1)\n",
    "theme_dummies = new_anime_df['themes'].str.get_dummies(', ').add_prefix('theme_').astype(bool)\n",
    "df = pd.concat([df, theme_dummies], axis=1)\n",
    "df =df.drop('themes', axis = 1)\n",
    "studio_dummies = new_anime_df['studios'].str.get_dummies(', ').add_prefix('studio_').astype(bool)\n",
    "df = pd.concat([df, studio_dummies], axis=1)\n",
    "df =df.drop('studios', axis = 1)\n",
    "#print(df.head())\n",
    "#dfo=new_anime_df.select_dtypes(include=['object']) # select object type columns\n",
    "#dfo\n",
    "#df = pd.concat([new_anime_df.drop(dfo, axis=1), pd.get_dummies(dfo)], axis=1)\n",
    "#df.head()\n",
    "df"
   ]
  },
  {
   "cell_type": "code",
   "execution_count": 6,
   "metadata": {},
   "outputs": [],
   "source": [
    "pro_dummies = new_anime_df['producers'].str.get_dummies(', ').add_prefix('prod_').astype(bool)\n",
    "df = pd.concat([df, pro_dummies], axis=1)\n",
    "df =df.drop('producers', axis = 1)"
   ]
  },
  {
   "cell_type": "code",
   "execution_count": 7,
   "metadata": {},
   "outputs": [],
   "source": [
    "lic_dummies = new_anime_df['licensors'].str.get_dummies(', ').add_prefix('Licen_').astype(bool)\n",
    "df = pd.concat([df, lic_dummies], axis=1)\n",
    "df =df.drop('licensors', axis = 1)"
   ]
  },
  {
   "cell_type": "code",
   "execution_count": 8,
   "metadata": {},
   "outputs": [
    {
     "data": {
      "text/html": [
       "<div>\n",
       "<style scoped>\n",
       "    .dataframe tbody tr th:only-of-type {\n",
       "        vertical-align: middle;\n",
       "    }\n",
       "\n",
       "    .dataframe tbody tr th {\n",
       "        vertical-align: top;\n",
       "    }\n",
       "\n",
       "    .dataframe thead th {\n",
       "        text-align: right;\n",
       "    }\n",
       "</style>\n",
       "<table border=\"1\" class=\"dataframe\">\n",
       "  <thead>\n",
       "    <tr style=\"text-align: right;\">\n",
       "      <th></th>\n",
       "      <th>0</th>\n",
       "      <th>1</th>\n",
       "      <th>2</th>\n",
       "      <th>3</th>\n",
       "      <th>4</th>\n",
       "    </tr>\n",
       "  </thead>\n",
       "  <tbody>\n",
       "    <tr>\n",
       "      <th>score</th>\n",
       "      <td>9.1</td>\n",
       "      <td>9.04</td>\n",
       "      <td>9.05</td>\n",
       "      <td>9.07</td>\n",
       "      <td>8.94</td>\n",
       "    </tr>\n",
       "    <tr>\n",
       "      <th>genre_Action</th>\n",
       "      <td>True</td>\n",
       "      <td>True</td>\n",
       "      <td>True</td>\n",
       "      <td>False</td>\n",
       "      <td>False</td>\n",
       "    </tr>\n",
       "    <tr>\n",
       "      <th>genre_Adventure</th>\n",
       "      <td>True</td>\n",
       "      <td>True</td>\n",
       "      <td>False</td>\n",
       "      <td>False</td>\n",
       "      <td>False</td>\n",
       "    </tr>\n",
       "    <tr>\n",
       "      <th>genre_Avant Garde</th>\n",
       "      <td>False</td>\n",
       "      <td>False</td>\n",
       "      <td>False</td>\n",
       "      <td>False</td>\n",
       "      <td>False</td>\n",
       "    </tr>\n",
       "    <tr>\n",
       "      <th>genre_Award Winning</th>\n",
       "      <td>False</td>\n",
       "      <td>False</td>\n",
       "      <td>False</td>\n",
       "      <td>False</td>\n",
       "      <td>True</td>\n",
       "    </tr>\n",
       "    <tr>\n",
       "      <th>...</th>\n",
       "      <td>...</td>\n",
       "      <td>...</td>\n",
       "      <td>...</td>\n",
       "      <td>...</td>\n",
       "      <td>...</td>\n",
       "    </tr>\n",
       "    <tr>\n",
       "      <th>demographics_Kids, Shoujo</th>\n",
       "      <td>False</td>\n",
       "      <td>False</td>\n",
       "      <td>False</td>\n",
       "      <td>False</td>\n",
       "      <td>False</td>\n",
       "    </tr>\n",
       "    <tr>\n",
       "      <th>demographics_Kids, Shounen</th>\n",
       "      <td>False</td>\n",
       "      <td>False</td>\n",
       "      <td>False</td>\n",
       "      <td>False</td>\n",
       "      <td>False</td>\n",
       "    </tr>\n",
       "    <tr>\n",
       "      <th>demographics_Seinen</th>\n",
       "      <td>False</td>\n",
       "      <td>False</td>\n",
       "      <td>False</td>\n",
       "      <td>False</td>\n",
       "      <td>False</td>\n",
       "    </tr>\n",
       "    <tr>\n",
       "      <th>demographics_Shoujo</th>\n",
       "      <td>False</td>\n",
       "      <td>False</td>\n",
       "      <td>False</td>\n",
       "      <td>False</td>\n",
       "      <td>False</td>\n",
       "    </tr>\n",
       "    <tr>\n",
       "      <th>demographics_Shounen</th>\n",
       "      <td>True</td>\n",
       "      <td>True</td>\n",
       "      <td>True</td>\n",
       "      <td>False</td>\n",
       "      <td>True</td>\n",
       "    </tr>\n",
       "  </tbody>\n",
       "</table>\n",
       "<p>2481 rows × 5 columns</p>\n",
       "</div>"
      ],
      "text/plain": [
       "                                0      1      2      3      4\n",
       "score                         9.1   9.04   9.05   9.07   8.94\n",
       "genre_Action                 True   True   True  False  False\n",
       "genre_Adventure              True   True  False  False  False\n",
       "genre_Avant Garde           False  False  False  False  False\n",
       "genre_Award Winning         False  False  False  False   True\n",
       "...                           ...    ...    ...    ...    ...\n",
       "demographics_Kids, Shoujo   False  False  False  False  False\n",
       "demographics_Kids, Shounen  False  False  False  False  False\n",
       "demographics_Seinen         False  False  False  False  False\n",
       "demographics_Shoujo         False  False  False  False  False\n",
       "demographics_Shounen         True   True   True  False   True\n",
       "\n",
       "[2481 rows x 5 columns]"
      ]
     },
     "execution_count": 8,
     "metadata": {},
     "output_type": "execute_result"
    }
   ],
   "source": [
    "# df without genres, themes, producers, licensors\n",
    "#df_no4 = new_anime_df.drop(['themes', 'themes', 'producers', 'licensors', 'studios'],axis = 1)\n",
    "dfo=df.select_dtypes(include=['object']) # select object type columns\n",
    "dfo\n",
    "df = pd.concat([df.drop(dfo, axis=1), pd.get_dummies(dfo)], axis=1)\n",
    "df.head().T\n"
   ]
  },
  {
   "cell_type": "code",
   "execution_count": 9,
   "metadata": {},
   "outputs": [],
   "source": [
    "scaler = MinMaxScaler((0,1))\n",
    "scaled_df= scaler.fit_transform(df)\n",
    "scaled_df = pd.DataFrame(scaled_df) "
   ]
  },
  {
   "cell_type": "code",
   "execution_count": 10,
   "metadata": {},
   "outputs": [
    {
     "data": {
      "text/html": [
       "<div>\n",
       "<style scoped>\n",
       "    .dataframe tbody tr th:only-of-type {\n",
       "        vertical-align: middle;\n",
       "    }\n",
       "\n",
       "    .dataframe tbody tr th {\n",
       "        vertical-align: top;\n",
       "    }\n",
       "\n",
       "    .dataframe thead th {\n",
       "        text-align: right;\n",
       "    }\n",
       "</style>\n",
       "<table border=\"1\" class=\"dataframe\">\n",
       "  <thead>\n",
       "    <tr style=\"text-align: right;\">\n",
       "      <th></th>\n",
       "      <th>0</th>\n",
       "      <th>1</th>\n",
       "      <th>2</th>\n",
       "      <th>3</th>\n",
       "      <th>4</th>\n",
       "      <th>5</th>\n",
       "      <th>6</th>\n",
       "      <th>7</th>\n",
       "      <th>8</th>\n",
       "      <th>9</th>\n",
       "      <th>...</th>\n",
       "      <th>2471</th>\n",
       "      <th>2472</th>\n",
       "      <th>2473</th>\n",
       "      <th>2474</th>\n",
       "      <th>2475</th>\n",
       "      <th>2476</th>\n",
       "      <th>2477</th>\n",
       "      <th>2478</th>\n",
       "      <th>2479</th>\n",
       "      <th>2480</th>\n",
       "    </tr>\n",
       "  </thead>\n",
       "  <tbody>\n",
       "    <tr>\n",
       "      <th>0</th>\n",
       "      <td>1.000000</td>\n",
       "      <td>1.0</td>\n",
       "      <td>1.0</td>\n",
       "      <td>0.0</td>\n",
       "      <td>0.0</td>\n",
       "      <td>0.0</td>\n",
       "      <td>0.0</td>\n",
       "      <td>1.0</td>\n",
       "      <td>0.0</td>\n",
       "      <td>0.0</td>\n",
       "      <td>...</td>\n",
       "      <td>1.0</td>\n",
       "      <td>0.0</td>\n",
       "      <td>0.0</td>\n",
       "      <td>0.0</td>\n",
       "      <td>0.0</td>\n",
       "      <td>0.0</td>\n",
       "      <td>0.0</td>\n",
       "      <td>0.0</td>\n",
       "      <td>0.0</td>\n",
       "      <td>1.0</td>\n",
       "    </tr>\n",
       "    <tr>\n",
       "      <th>1</th>\n",
       "      <td>0.991724</td>\n",
       "      <td>1.0</td>\n",
       "      <td>1.0</td>\n",
       "      <td>0.0</td>\n",
       "      <td>0.0</td>\n",
       "      <td>0.0</td>\n",
       "      <td>0.0</td>\n",
       "      <td>0.0</td>\n",
       "      <td>0.0</td>\n",
       "      <td>0.0</td>\n",
       "      <td>...</td>\n",
       "      <td>0.0</td>\n",
       "      <td>0.0</td>\n",
       "      <td>0.0</td>\n",
       "      <td>0.0</td>\n",
       "      <td>0.0</td>\n",
       "      <td>0.0</td>\n",
       "      <td>0.0</td>\n",
       "      <td>0.0</td>\n",
       "      <td>0.0</td>\n",
       "      <td>1.0</td>\n",
       "    </tr>\n",
       "    <tr>\n",
       "      <th>2</th>\n",
       "      <td>0.993103</td>\n",
       "      <td>1.0</td>\n",
       "      <td>0.0</td>\n",
       "      <td>0.0</td>\n",
       "      <td>0.0</td>\n",
       "      <td>0.0</td>\n",
       "      <td>0.0</td>\n",
       "      <td>1.0</td>\n",
       "      <td>0.0</td>\n",
       "      <td>0.0</td>\n",
       "      <td>...</td>\n",
       "      <td>1.0</td>\n",
       "      <td>0.0</td>\n",
       "      <td>0.0</td>\n",
       "      <td>0.0</td>\n",
       "      <td>0.0</td>\n",
       "      <td>0.0</td>\n",
       "      <td>0.0</td>\n",
       "      <td>0.0</td>\n",
       "      <td>0.0</td>\n",
       "      <td>1.0</td>\n",
       "    </tr>\n",
       "    <tr>\n",
       "      <th>3</th>\n",
       "      <td>0.995862</td>\n",
       "      <td>0.0</td>\n",
       "      <td>0.0</td>\n",
       "      <td>0.0</td>\n",
       "      <td>0.0</td>\n",
       "      <td>0.0</td>\n",
       "      <td>0.0</td>\n",
       "      <td>1.0</td>\n",
       "      <td>0.0</td>\n",
       "      <td>0.0</td>\n",
       "      <td>...</td>\n",
       "      <td>0.0</td>\n",
       "      <td>0.0</td>\n",
       "      <td>0.0</td>\n",
       "      <td>0.0</td>\n",
       "      <td>0.0</td>\n",
       "      <td>0.0</td>\n",
       "      <td>0.0</td>\n",
       "      <td>0.0</td>\n",
       "      <td>0.0</td>\n",
       "      <td>0.0</td>\n",
       "    </tr>\n",
       "    <tr>\n",
       "      <th>4</th>\n",
       "      <td>0.977931</td>\n",
       "      <td>0.0</td>\n",
       "      <td>0.0</td>\n",
       "      <td>0.0</td>\n",
       "      <td>1.0</td>\n",
       "      <td>0.0</td>\n",
       "      <td>0.0</td>\n",
       "      <td>1.0</td>\n",
       "      <td>0.0</td>\n",
       "      <td>0.0</td>\n",
       "      <td>...</td>\n",
       "      <td>0.0</td>\n",
       "      <td>0.0</td>\n",
       "      <td>0.0</td>\n",
       "      <td>0.0</td>\n",
       "      <td>0.0</td>\n",
       "      <td>0.0</td>\n",
       "      <td>0.0</td>\n",
       "      <td>0.0</td>\n",
       "      <td>0.0</td>\n",
       "      <td>1.0</td>\n",
       "    </tr>\n",
       "    <tr>\n",
       "      <th>...</th>\n",
       "      <td>...</td>\n",
       "      <td>...</td>\n",
       "      <td>...</td>\n",
       "      <td>...</td>\n",
       "      <td>...</td>\n",
       "      <td>...</td>\n",
       "      <td>...</td>\n",
       "      <td>...</td>\n",
       "      <td>...</td>\n",
       "      <td>...</td>\n",
       "      <td>...</td>\n",
       "      <td>...</td>\n",
       "      <td>...</td>\n",
       "      <td>...</td>\n",
       "      <td>...</td>\n",
       "      <td>...</td>\n",
       "      <td>...</td>\n",
       "      <td>...</td>\n",
       "      <td>...</td>\n",
       "      <td>...</td>\n",
       "      <td>...</td>\n",
       "    </tr>\n",
       "    <tr>\n",
       "      <th>14459</th>\n",
       "      <td>0.435862</td>\n",
       "      <td>0.0</td>\n",
       "      <td>0.0</td>\n",
       "      <td>0.0</td>\n",
       "      <td>0.0</td>\n",
       "      <td>0.0</td>\n",
       "      <td>0.0</td>\n",
       "      <td>0.0</td>\n",
       "      <td>0.0</td>\n",
       "      <td>0.0</td>\n",
       "      <td>...</td>\n",
       "      <td>0.0</td>\n",
       "      <td>0.0</td>\n",
       "      <td>0.0</td>\n",
       "      <td>0.0</td>\n",
       "      <td>0.0</td>\n",
       "      <td>0.0</td>\n",
       "      <td>0.0</td>\n",
       "      <td>0.0</td>\n",
       "      <td>0.0</td>\n",
       "      <td>0.0</td>\n",
       "    </tr>\n",
       "    <tr>\n",
       "      <th>14460</th>\n",
       "      <td>0.412414</td>\n",
       "      <td>0.0</td>\n",
       "      <td>0.0</td>\n",
       "      <td>0.0</td>\n",
       "      <td>0.0</td>\n",
       "      <td>0.0</td>\n",
       "      <td>1.0</td>\n",
       "      <td>0.0</td>\n",
       "      <td>0.0</td>\n",
       "      <td>0.0</td>\n",
       "      <td>...</td>\n",
       "      <td>0.0</td>\n",
       "      <td>0.0</td>\n",
       "      <td>0.0</td>\n",
       "      <td>0.0</td>\n",
       "      <td>0.0</td>\n",
       "      <td>0.0</td>\n",
       "      <td>0.0</td>\n",
       "      <td>0.0</td>\n",
       "      <td>0.0</td>\n",
       "      <td>0.0</td>\n",
       "    </tr>\n",
       "    <tr>\n",
       "      <th>14461</th>\n",
       "      <td>0.420690</td>\n",
       "      <td>0.0</td>\n",
       "      <td>0.0</td>\n",
       "      <td>1.0</td>\n",
       "      <td>0.0</td>\n",
       "      <td>0.0</td>\n",
       "      <td>0.0</td>\n",
       "      <td>0.0</td>\n",
       "      <td>0.0</td>\n",
       "      <td>0.0</td>\n",
       "      <td>...</td>\n",
       "      <td>0.0</td>\n",
       "      <td>0.0</td>\n",
       "      <td>0.0</td>\n",
       "      <td>0.0</td>\n",
       "      <td>0.0</td>\n",
       "      <td>0.0</td>\n",
       "      <td>0.0</td>\n",
       "      <td>0.0</td>\n",
       "      <td>0.0</td>\n",
       "      <td>0.0</td>\n",
       "    </tr>\n",
       "    <tr>\n",
       "      <th>14462</th>\n",
       "      <td>0.445517</td>\n",
       "      <td>0.0</td>\n",
       "      <td>0.0</td>\n",
       "      <td>0.0</td>\n",
       "      <td>0.0</td>\n",
       "      <td>0.0</td>\n",
       "      <td>1.0</td>\n",
       "      <td>0.0</td>\n",
       "      <td>0.0</td>\n",
       "      <td>0.0</td>\n",
       "      <td>...</td>\n",
       "      <td>0.0</td>\n",
       "      <td>0.0</td>\n",
       "      <td>0.0</td>\n",
       "      <td>0.0</td>\n",
       "      <td>0.0</td>\n",
       "      <td>0.0</td>\n",
       "      <td>0.0</td>\n",
       "      <td>0.0</td>\n",
       "      <td>0.0</td>\n",
       "      <td>0.0</td>\n",
       "    </tr>\n",
       "    <tr>\n",
       "      <th>14463</th>\n",
       "      <td>0.411034</td>\n",
       "      <td>0.0</td>\n",
       "      <td>0.0</td>\n",
       "      <td>0.0</td>\n",
       "      <td>0.0</td>\n",
       "      <td>0.0</td>\n",
       "      <td>0.0</td>\n",
       "      <td>0.0</td>\n",
       "      <td>0.0</td>\n",
       "      <td>0.0</td>\n",
       "      <td>...</td>\n",
       "      <td>0.0</td>\n",
       "      <td>0.0</td>\n",
       "      <td>0.0</td>\n",
       "      <td>0.0</td>\n",
       "      <td>1.0</td>\n",
       "      <td>0.0</td>\n",
       "      <td>0.0</td>\n",
       "      <td>0.0</td>\n",
       "      <td>0.0</td>\n",
       "      <td>0.0</td>\n",
       "    </tr>\n",
       "  </tbody>\n",
       "</table>\n",
       "<p>14464 rows × 2481 columns</p>\n",
       "</div>"
      ],
      "text/plain": [
       "           0     1     2     3     4     5     6     7     8     9     ...  \\\n",
       "0      1.000000   1.0   1.0   0.0   0.0   0.0   0.0   1.0   0.0   0.0  ...   \n",
       "1      0.991724   1.0   1.0   0.0   0.0   0.0   0.0   0.0   0.0   0.0  ...   \n",
       "2      0.993103   1.0   0.0   0.0   0.0   0.0   0.0   1.0   0.0   0.0  ...   \n",
       "3      0.995862   0.0   0.0   0.0   0.0   0.0   0.0   1.0   0.0   0.0  ...   \n",
       "4      0.977931   0.0   0.0   0.0   1.0   0.0   0.0   1.0   0.0   0.0  ...   \n",
       "...         ...   ...   ...   ...   ...   ...   ...   ...   ...   ...  ...   \n",
       "14459  0.435862   0.0   0.0   0.0   0.0   0.0   0.0   0.0   0.0   0.0  ...   \n",
       "14460  0.412414   0.0   0.0   0.0   0.0   0.0   1.0   0.0   0.0   0.0  ...   \n",
       "14461  0.420690   0.0   0.0   1.0   0.0   0.0   0.0   0.0   0.0   0.0  ...   \n",
       "14462  0.445517   0.0   0.0   0.0   0.0   0.0   1.0   0.0   0.0   0.0  ...   \n",
       "14463  0.411034   0.0   0.0   0.0   0.0   0.0   0.0   0.0   0.0   0.0  ...   \n",
       "\n",
       "       2471  2472  2473  2474  2475  2476  2477  2478  2479  2480  \n",
       "0       1.0   0.0   0.0   0.0   0.0   0.0   0.0   0.0   0.0   1.0  \n",
       "1       0.0   0.0   0.0   0.0   0.0   0.0   0.0   0.0   0.0   1.0  \n",
       "2       1.0   0.0   0.0   0.0   0.0   0.0   0.0   0.0   0.0   1.0  \n",
       "3       0.0   0.0   0.0   0.0   0.0   0.0   0.0   0.0   0.0   0.0  \n",
       "4       0.0   0.0   0.0   0.0   0.0   0.0   0.0   0.0   0.0   1.0  \n",
       "...     ...   ...   ...   ...   ...   ...   ...   ...   ...   ...  \n",
       "14459   0.0   0.0   0.0   0.0   0.0   0.0   0.0   0.0   0.0   0.0  \n",
       "14460   0.0   0.0   0.0   0.0   0.0   0.0   0.0   0.0   0.0   0.0  \n",
       "14461   0.0   0.0   0.0   0.0   0.0   0.0   0.0   0.0   0.0   0.0  \n",
       "14462   0.0   0.0   0.0   0.0   0.0   0.0   0.0   0.0   0.0   0.0  \n",
       "14463   0.0   0.0   0.0   0.0   1.0   0.0   0.0   0.0   0.0   0.0  \n",
       "\n",
       "[14464 rows x 2481 columns]"
      ]
     },
     "execution_count": 10,
     "metadata": {},
     "output_type": "execute_result"
    }
   ],
   "source": [
    "scaled_df"
   ]
  },
  {
   "cell_type": "code",
   "execution_count": 10,
   "metadata": {},
   "outputs": [],
   "source": [
    "X = df.drop('score', axis =1)\n",
    "y = df['score']"
   ]
  },
  {
   "cell_type": "code",
   "execution_count": 11,
   "metadata": {},
   "outputs": [],
   "source": [
    "X_train, X_test, y_train, y_test = train_test_split(X,y, test_size=0.3, random_state=1)"
   ]
  },
  {
   "cell_type": "markdown",
   "metadata": {},
   "source": [
    "# pipe for linear regression"
   ]
  },
  {
   "cell_type": "code",
   "execution_count": 12,
   "metadata": {},
   "outputs": [],
   "source": [
    "pipe = make_pipeline(\n",
    "    SimpleImputer(strategy='median'),\n",
    "    MinMaxScaler(),\n",
    "    LinearRegression()\n",
    ")"
   ]
  },
  {
   "cell_type": "code",
   "execution_count": 13,
   "metadata": {},
   "outputs": [
    {
     "data": {
      "text/html": [
       "<style>#sk-container-id-1 {color: black;background-color: white;}#sk-container-id-1 pre{padding: 0;}#sk-container-id-1 div.sk-toggleable {background-color: white;}#sk-container-id-1 label.sk-toggleable__label {cursor: pointer;display: block;width: 100%;margin-bottom: 0;padding: 0.3em;box-sizing: border-box;text-align: center;}#sk-container-id-1 label.sk-toggleable__label-arrow:before {content: \"▸\";float: left;margin-right: 0.25em;color: #696969;}#sk-container-id-1 label.sk-toggleable__label-arrow:hover:before {color: black;}#sk-container-id-1 div.sk-estimator:hover label.sk-toggleable__label-arrow:before {color: black;}#sk-container-id-1 div.sk-toggleable__content {max-height: 0;max-width: 0;overflow: hidden;text-align: left;background-color: #f0f8ff;}#sk-container-id-1 div.sk-toggleable__content pre {margin: 0.2em;color: black;border-radius: 0.25em;background-color: #f0f8ff;}#sk-container-id-1 input.sk-toggleable__control:checked~div.sk-toggleable__content {max-height: 200px;max-width: 100%;overflow: auto;}#sk-container-id-1 input.sk-toggleable__control:checked~label.sk-toggleable__label-arrow:before {content: \"▾\";}#sk-container-id-1 div.sk-estimator input.sk-toggleable__control:checked~label.sk-toggleable__label {background-color: #d4ebff;}#sk-container-id-1 div.sk-label input.sk-toggleable__control:checked~label.sk-toggleable__label {background-color: #d4ebff;}#sk-container-id-1 input.sk-hidden--visually {border: 0;clip: rect(1px 1px 1px 1px);clip: rect(1px, 1px, 1px, 1px);height: 1px;margin: -1px;overflow: hidden;padding: 0;position: absolute;width: 1px;}#sk-container-id-1 div.sk-estimator {font-family: monospace;background-color: #f0f8ff;border: 1px dotted black;border-radius: 0.25em;box-sizing: border-box;margin-bottom: 0.5em;}#sk-container-id-1 div.sk-estimator:hover {background-color: #d4ebff;}#sk-container-id-1 div.sk-parallel-item::after {content: \"\";width: 100%;border-bottom: 1px solid gray;flex-grow: 1;}#sk-container-id-1 div.sk-label:hover label.sk-toggleable__label {background-color: #d4ebff;}#sk-container-id-1 div.sk-serial::before {content: \"\";position: absolute;border-left: 1px solid gray;box-sizing: border-box;top: 0;bottom: 0;left: 50%;z-index: 0;}#sk-container-id-1 div.sk-serial {display: flex;flex-direction: column;align-items: center;background-color: white;padding-right: 0.2em;padding-left: 0.2em;position: relative;}#sk-container-id-1 div.sk-item {position: relative;z-index: 1;}#sk-container-id-1 div.sk-parallel {display: flex;align-items: stretch;justify-content: center;background-color: white;position: relative;}#sk-container-id-1 div.sk-item::before, #sk-container-id-1 div.sk-parallel-item::before {content: \"\";position: absolute;border-left: 1px solid gray;box-sizing: border-box;top: 0;bottom: 0;left: 50%;z-index: -1;}#sk-container-id-1 div.sk-parallel-item {display: flex;flex-direction: column;z-index: 1;position: relative;background-color: white;}#sk-container-id-1 div.sk-parallel-item:first-child::after {align-self: flex-end;width: 50%;}#sk-container-id-1 div.sk-parallel-item:last-child::after {align-self: flex-start;width: 50%;}#sk-container-id-1 div.sk-parallel-item:only-child::after {width: 0;}#sk-container-id-1 div.sk-dashed-wrapped {border: 1px dashed gray;margin: 0 0.4em 0.5em 0.4em;box-sizing: border-box;padding-bottom: 0.4em;background-color: white;}#sk-container-id-1 div.sk-label label {font-family: monospace;font-weight: bold;display: inline-block;line-height: 1.2em;}#sk-container-id-1 div.sk-label-container {text-align: center;}#sk-container-id-1 div.sk-container {/* jupyter's `normalize.less` sets `[hidden] { display: none; }` but bootstrap.min.css set `[hidden] { display: none !important; }` so we also need the `!important` here to be able to override the default hidden behavior on the sphinx rendered scikit-learn.org. See: https://github.com/scikit-learn/scikit-learn/issues/21755 */display: inline-block !important;position: relative;}#sk-container-id-1 div.sk-text-repr-fallback {display: none;}</style><div id=\"sk-container-id-1\" class=\"sk-top-container\"><div class=\"sk-text-repr-fallback\"><pre>Pipeline(steps=[(&#x27;simpleimputer&#x27;, SimpleImputer(strategy=&#x27;median&#x27;)),\n",
       "                (&#x27;minmaxscaler&#x27;, MinMaxScaler()),\n",
       "                (&#x27;linearregression&#x27;, LinearRegression())])</pre><b>In a Jupyter environment, please rerun this cell to show the HTML representation or trust the notebook. <br />On GitHub, the HTML representation is unable to render, please try loading this page with nbviewer.org.</b></div><div class=\"sk-container\" hidden><div class=\"sk-item sk-dashed-wrapped\"><div class=\"sk-label-container\"><div class=\"sk-label sk-toggleable\"><input class=\"sk-toggleable__control sk-hidden--visually\" id=\"sk-estimator-id-1\" type=\"checkbox\" ><label for=\"sk-estimator-id-1\" class=\"sk-toggleable__label sk-toggleable__label-arrow\">Pipeline</label><div class=\"sk-toggleable__content\"><pre>Pipeline(steps=[(&#x27;simpleimputer&#x27;, SimpleImputer(strategy=&#x27;median&#x27;)),\n",
       "                (&#x27;minmaxscaler&#x27;, MinMaxScaler()),\n",
       "                (&#x27;linearregression&#x27;, LinearRegression())])</pre></div></div></div><div class=\"sk-serial\"><div class=\"sk-item\"><div class=\"sk-estimator sk-toggleable\"><input class=\"sk-toggleable__control sk-hidden--visually\" id=\"sk-estimator-id-2\" type=\"checkbox\" ><label for=\"sk-estimator-id-2\" class=\"sk-toggleable__label sk-toggleable__label-arrow\">SimpleImputer</label><div class=\"sk-toggleable__content\"><pre>SimpleImputer(strategy=&#x27;median&#x27;)</pre></div></div></div><div class=\"sk-item\"><div class=\"sk-estimator sk-toggleable\"><input class=\"sk-toggleable__control sk-hidden--visually\" id=\"sk-estimator-id-3\" type=\"checkbox\" ><label for=\"sk-estimator-id-3\" class=\"sk-toggleable__label sk-toggleable__label-arrow\">MinMaxScaler</label><div class=\"sk-toggleable__content\"><pre>MinMaxScaler()</pre></div></div></div><div class=\"sk-item\"><div class=\"sk-estimator sk-toggleable\"><input class=\"sk-toggleable__control sk-hidden--visually\" id=\"sk-estimator-id-4\" type=\"checkbox\" ><label for=\"sk-estimator-id-4\" class=\"sk-toggleable__label sk-toggleable__label-arrow\">LinearRegression</label><div class=\"sk-toggleable__content\"><pre>LinearRegression()</pre></div></div></div></div></div></div></div>"
      ],
      "text/plain": [
       "Pipeline(steps=[('simpleimputer', SimpleImputer(strategy='median')),\n",
       "                ('minmaxscaler', MinMaxScaler()),\n",
       "                ('linearregression', LinearRegression())])"
      ]
     },
     "execution_count": 13,
     "metadata": {},
     "output_type": "execute_result"
    }
   ],
   "source": [
    "pipe.fit(X_train, y_train)"
   ]
  },
  {
   "cell_type": "code",
   "execution_count": 14,
   "metadata": {},
   "outputs": [],
   "source": [
    "y_tr_pred = pipe.predict(X_train)\n",
    "y_te_pred = pipe.predict(X_test)"
   ]
  },
  {
   "cell_type": "code",
   "execution_count": 15,
   "metadata": {},
   "outputs": [
    {
     "name": "stdout",
     "output_type": "stream",
     "text": [
      "Training set R2 score:  0.6873982603422604\n",
      "Testing set R2 score:  -1.7627066982220555e+21\n"
     ]
    }
   ],
   "source": [
    "#check R^2 score, the proportion of variance in the dependent variable by the independent variable\n",
    "print(\"Training set R2 score: \",r2_score(y_train, y_tr_pred))\n",
    "print(\"Testing set R2 score: \",r2_score(y_test, y_te_pred))"
   ]
  },
  {
   "cell_type": "code",
   "execution_count": 16,
   "metadata": {},
   "outputs": [
    {
     "name": "stdout",
     "output_type": "stream",
     "text": [
      "MAE of training set:  0.37097146892208493\n",
      "MAE of testing set:  4574511652.036074\n"
     ]
    }
   ],
   "source": [
    "# check the Mean absolute error, average of absolute differences between predicted vs actual values\n",
    "print(\"MAE of training set: \",mean_absolute_error(y_train, y_tr_pred)) \n",
    "print(\"MAE of testing set: \",mean_absolute_error(y_test, y_te_pred))"
   ]
  },
  {
   "cell_type": "code",
   "execution_count": 17,
   "metadata": {},
   "outputs": [
    {
     "name": "stdout",
     "output_type": "stream",
     "text": [
      "RMSE of training set:  0.5041931617809288\n",
      "RMSE of the testing set:  37861986378.21404\n"
     ]
    }
   ],
   "source": [
    "#check RMSE, the lower the better, lower indicates a better model\n",
    "print(\"RMSE of training set: \", np.sqrt(mean_squared_error(y_train, y_tr_pred)))\n",
    "print(\"RMSE of the testing set: \", np.sqrt(mean_squared_error(y_test, y_te_pred)))"
   ]
  },
  {
   "cell_type": "markdown",
   "metadata": {},
   "source": [
    "### Hypertuning the Linear Regression using grid search"
   ]
  },
  {
   "cell_type": "code",
   "execution_count": 29,
   "metadata": {},
   "outputs": [],
   "source": [
    "pipe_best_feat= make_pipeline(\n",
    "    SimpleImputer(strategy='median'),\n",
    "    SelectKBest(score_func = f_regression, k=15),\n",
    "    LinearRegression()\n",
    ")"
   ]
  },
  {
   "cell_type": "code",
   "execution_count": 30,
   "metadata": {},
   "outputs": [],
   "source": [
    "k = [k+1 for k in range(len(X_train.columns))]\n",
    "grid_params = {'selectkbest__k': k,\n",
    "               'simpleimputer__strategy': ['mean', 'median']}\n"
   ]
  },
  {
   "cell_type": "code",
   "execution_count": 31,
   "metadata": {},
   "outputs": [],
   "source": [
    "from sklearn.model_selection import RandomizedSearchCV\n",
    "\n",
    "\n",
    "lr_search_cv = RandomizedSearchCV(pipe_best_feat, grid_params, cv=5, n_jobs=-1, scoring='neg_mean_squared_error')"
   ]
  },
  {
   "cell_type": "code",
   "execution_count": 32,
   "metadata": {},
   "outputs": [
    {
     "data": {
      "text/html": [
       "<style>#sk-container-id-3 {color: black;background-color: white;}#sk-container-id-3 pre{padding: 0;}#sk-container-id-3 div.sk-toggleable {background-color: white;}#sk-container-id-3 label.sk-toggleable__label {cursor: pointer;display: block;width: 100%;margin-bottom: 0;padding: 0.3em;box-sizing: border-box;text-align: center;}#sk-container-id-3 label.sk-toggleable__label-arrow:before {content: \"▸\";float: left;margin-right: 0.25em;color: #696969;}#sk-container-id-3 label.sk-toggleable__label-arrow:hover:before {color: black;}#sk-container-id-3 div.sk-estimator:hover label.sk-toggleable__label-arrow:before {color: black;}#sk-container-id-3 div.sk-toggleable__content {max-height: 0;max-width: 0;overflow: hidden;text-align: left;background-color: #f0f8ff;}#sk-container-id-3 div.sk-toggleable__content pre {margin: 0.2em;color: black;border-radius: 0.25em;background-color: #f0f8ff;}#sk-container-id-3 input.sk-toggleable__control:checked~div.sk-toggleable__content {max-height: 200px;max-width: 100%;overflow: auto;}#sk-container-id-3 input.sk-toggleable__control:checked~label.sk-toggleable__label-arrow:before {content: \"▾\";}#sk-container-id-3 div.sk-estimator input.sk-toggleable__control:checked~label.sk-toggleable__label {background-color: #d4ebff;}#sk-container-id-3 div.sk-label input.sk-toggleable__control:checked~label.sk-toggleable__label {background-color: #d4ebff;}#sk-container-id-3 input.sk-hidden--visually {border: 0;clip: rect(1px 1px 1px 1px);clip: rect(1px, 1px, 1px, 1px);height: 1px;margin: -1px;overflow: hidden;padding: 0;position: absolute;width: 1px;}#sk-container-id-3 div.sk-estimator {font-family: monospace;background-color: #f0f8ff;border: 1px dotted black;border-radius: 0.25em;box-sizing: border-box;margin-bottom: 0.5em;}#sk-container-id-3 div.sk-estimator:hover {background-color: #d4ebff;}#sk-container-id-3 div.sk-parallel-item::after {content: \"\";width: 100%;border-bottom: 1px solid gray;flex-grow: 1;}#sk-container-id-3 div.sk-label:hover label.sk-toggleable__label {background-color: #d4ebff;}#sk-container-id-3 div.sk-serial::before {content: \"\";position: absolute;border-left: 1px solid gray;box-sizing: border-box;top: 0;bottom: 0;left: 50%;z-index: 0;}#sk-container-id-3 div.sk-serial {display: flex;flex-direction: column;align-items: center;background-color: white;padding-right: 0.2em;padding-left: 0.2em;position: relative;}#sk-container-id-3 div.sk-item {position: relative;z-index: 1;}#sk-container-id-3 div.sk-parallel {display: flex;align-items: stretch;justify-content: center;background-color: white;position: relative;}#sk-container-id-3 div.sk-item::before, #sk-container-id-3 div.sk-parallel-item::before {content: \"\";position: absolute;border-left: 1px solid gray;box-sizing: border-box;top: 0;bottom: 0;left: 50%;z-index: -1;}#sk-container-id-3 div.sk-parallel-item {display: flex;flex-direction: column;z-index: 1;position: relative;background-color: white;}#sk-container-id-3 div.sk-parallel-item:first-child::after {align-self: flex-end;width: 50%;}#sk-container-id-3 div.sk-parallel-item:last-child::after {align-self: flex-start;width: 50%;}#sk-container-id-3 div.sk-parallel-item:only-child::after {width: 0;}#sk-container-id-3 div.sk-dashed-wrapped {border: 1px dashed gray;margin: 0 0.4em 0.5em 0.4em;box-sizing: border-box;padding-bottom: 0.4em;background-color: white;}#sk-container-id-3 div.sk-label label {font-family: monospace;font-weight: bold;display: inline-block;line-height: 1.2em;}#sk-container-id-3 div.sk-label-container {text-align: center;}#sk-container-id-3 div.sk-container {/* jupyter's `normalize.less` sets `[hidden] { display: none; }` but bootstrap.min.css set `[hidden] { display: none !important; }` so we also need the `!important` here to be able to override the default hidden behavior on the sphinx rendered scikit-learn.org. See: https://github.com/scikit-learn/scikit-learn/issues/21755 */display: inline-block !important;position: relative;}#sk-container-id-3 div.sk-text-repr-fallback {display: none;}</style><div id=\"sk-container-id-3\" class=\"sk-top-container\"><div class=\"sk-text-repr-fallback\"><pre>RandomizedSearchCV(cv=5,\n",
       "                   estimator=Pipeline(steps=[(&#x27;simpleimputer&#x27;,\n",
       "                                              SimpleImputer(strategy=&#x27;median&#x27;)),\n",
       "                                             (&#x27;selectkbest&#x27;,\n",
       "                                              SelectKBest(k=15,\n",
       "                                                          score_func=&lt;function f_regression at 0x000001B02765BE20&gt;)),\n",
       "                                             (&#x27;linearregression&#x27;,\n",
       "                                              LinearRegression())]),\n",
       "                   n_jobs=-1,\n",
       "                   param_distributions={&#x27;selectkbest__k&#x27;: [1, 2, 3, 4, 5, 6, 7,\n",
       "                                                           8, 9, 10, 11, 12, 13,\n",
       "                                                           14, 15, 16, 17, 18,\n",
       "                                                           19, 20, 21, 22, 23,\n",
       "                                                           24, 25, 26, 27, 28,\n",
       "                                                           29, 30, ...],\n",
       "                                        &#x27;simpleimputer__strategy&#x27;: [&#x27;mean&#x27;,\n",
       "                                                                    &#x27;median&#x27;]},\n",
       "                   scoring=&#x27;neg_mean_squared_error&#x27;)</pre><b>In a Jupyter environment, please rerun this cell to show the HTML representation or trust the notebook. <br />On GitHub, the HTML representation is unable to render, please try loading this page with nbviewer.org.</b></div><div class=\"sk-container\" hidden><div class=\"sk-item sk-dashed-wrapped\"><div class=\"sk-label-container\"><div class=\"sk-label sk-toggleable\"><input class=\"sk-toggleable__control sk-hidden--visually\" id=\"sk-estimator-id-9\" type=\"checkbox\" ><label for=\"sk-estimator-id-9\" class=\"sk-toggleable__label sk-toggleable__label-arrow\">RandomizedSearchCV</label><div class=\"sk-toggleable__content\"><pre>RandomizedSearchCV(cv=5,\n",
       "                   estimator=Pipeline(steps=[(&#x27;simpleimputer&#x27;,\n",
       "                                              SimpleImputer(strategy=&#x27;median&#x27;)),\n",
       "                                             (&#x27;selectkbest&#x27;,\n",
       "                                              SelectKBest(k=15,\n",
       "                                                          score_func=&lt;function f_regression at 0x000001B02765BE20&gt;)),\n",
       "                                             (&#x27;linearregression&#x27;,\n",
       "                                              LinearRegression())]),\n",
       "                   n_jobs=-1,\n",
       "                   param_distributions={&#x27;selectkbest__k&#x27;: [1, 2, 3, 4, 5, 6, 7,\n",
       "                                                           8, 9, 10, 11, 12, 13,\n",
       "                                                           14, 15, 16, 17, 18,\n",
       "                                                           19, 20, 21, 22, 23,\n",
       "                                                           24, 25, 26, 27, 28,\n",
       "                                                           29, 30, ...],\n",
       "                                        &#x27;simpleimputer__strategy&#x27;: [&#x27;mean&#x27;,\n",
       "                                                                    &#x27;median&#x27;]},\n",
       "                   scoring=&#x27;neg_mean_squared_error&#x27;)</pre></div></div></div><div class=\"sk-parallel\"><div class=\"sk-parallel-item\"><div class=\"sk-item\"><div class=\"sk-label-container\"><div class=\"sk-label sk-toggleable\"><input class=\"sk-toggleable__control sk-hidden--visually\" id=\"sk-estimator-id-10\" type=\"checkbox\" ><label for=\"sk-estimator-id-10\" class=\"sk-toggleable__label sk-toggleable__label-arrow\">estimator: Pipeline</label><div class=\"sk-toggleable__content\"><pre>Pipeline(steps=[(&#x27;simpleimputer&#x27;, SimpleImputer(strategy=&#x27;median&#x27;)),\n",
       "                (&#x27;selectkbest&#x27;,\n",
       "                 SelectKBest(k=15,\n",
       "                             score_func=&lt;function f_regression at 0x000001B02765BE20&gt;)),\n",
       "                (&#x27;linearregression&#x27;, LinearRegression())])</pre></div></div></div><div class=\"sk-serial\"><div class=\"sk-item\"><div class=\"sk-serial\"><div class=\"sk-item\"><div class=\"sk-estimator sk-toggleable\"><input class=\"sk-toggleable__control sk-hidden--visually\" id=\"sk-estimator-id-11\" type=\"checkbox\" ><label for=\"sk-estimator-id-11\" class=\"sk-toggleable__label sk-toggleable__label-arrow\">SimpleImputer</label><div class=\"sk-toggleable__content\"><pre>SimpleImputer(strategy=&#x27;median&#x27;)</pre></div></div></div><div class=\"sk-item\"><div class=\"sk-estimator sk-toggleable\"><input class=\"sk-toggleable__control sk-hidden--visually\" id=\"sk-estimator-id-12\" type=\"checkbox\" ><label for=\"sk-estimator-id-12\" class=\"sk-toggleable__label sk-toggleable__label-arrow\">SelectKBest</label><div class=\"sk-toggleable__content\"><pre>SelectKBest(k=15, score_func=&lt;function f_regression at 0x000001B02765BE20&gt;)</pre></div></div></div><div class=\"sk-item\"><div class=\"sk-estimator sk-toggleable\"><input class=\"sk-toggleable__control sk-hidden--visually\" id=\"sk-estimator-id-13\" type=\"checkbox\" ><label for=\"sk-estimator-id-13\" class=\"sk-toggleable__label sk-toggleable__label-arrow\">LinearRegression</label><div class=\"sk-toggleable__content\"><pre>LinearRegression()</pre></div></div></div></div></div></div></div></div></div></div></div></div>"
      ],
      "text/plain": [
       "RandomizedSearchCV(cv=5,\n",
       "                   estimator=Pipeline(steps=[('simpleimputer',\n",
       "                                              SimpleImputer(strategy='median')),\n",
       "                                             ('selectkbest',\n",
       "                                              SelectKBest(k=15,\n",
       "                                                          score_func=<function f_regression at 0x000001B02765BE20>)),\n",
       "                                             ('linearregression',\n",
       "                                              LinearRegression())]),\n",
       "                   n_jobs=-1,\n",
       "                   param_distributions={'selectkbest__k': [1, 2, 3, 4, 5, 6, 7,\n",
       "                                                           8, 9, 10, 11, 12, 13,\n",
       "                                                           14, 15, 16, 17, 18,\n",
       "                                                           19, 20, 21, 22, 23,\n",
       "                                                           24, 25, 26, 27, 28,\n",
       "                                                           29, 30, ...],\n",
       "                                        'simpleimputer__strategy': ['mean',\n",
       "                                                                    'median']},\n",
       "                   scoring='neg_mean_squared_error')"
      ]
     },
     "execution_count": 32,
     "metadata": {},
     "output_type": "execute_result"
    }
   ],
   "source": [
    "lr_search_cv.fit(X_train, y_train)"
   ]
  },
  {
   "cell_type": "code",
   "execution_count": 33,
   "metadata": {},
   "outputs": [
    {
     "data": {
      "text/plain": [
       "{'simpleimputer__strategy': 'mean', 'selectkbest__k': 182}"
      ]
     },
     "execution_count": 33,
     "metadata": {},
     "output_type": "execute_result"
    }
   ],
   "source": [
    "lr_search_cv.best_params_"
   ]
  },
  {
   "cell_type": "code",
   "execution_count": 34,
   "metadata": {},
   "outputs": [
    {
     "data": {
      "text/plain": [
       "Licen_NIS America               4.219348e+11\n",
       "Licen_GKIDS                     9.066069e-01\n",
       "studio_Kyoto Animation          7.526710e-01\n",
       "prod_Sony Music Solutions       7.077809e-01\n",
       "studio_Bandai Namco Pictures    6.501753e-01\n",
       "                                    ...     \n",
       "prod_Idea Factory              -1.144721e+00\n",
       "prod_Obtain Future             -1.302404e+00\n",
       "prod_Kuri Jikken Manga Kobo    -1.349276e+00\n",
       "prod_Design Factory            -2.373252e+00\n",
       "Licen_Inc.                     -4.219348e+11\n",
       "Length: 182, dtype: float64"
      ]
     },
     "execution_count": 34,
     "metadata": {},
     "output_type": "execute_result"
    }
   ],
   "source": [
    "selected = lr_search_cv.best_estimator_.named_steps.selectkbest.get_support()\n",
    "coefs = lr_search_cv.best_estimator_.named_steps.linearregression.coef_\n",
    "features = X_train.columns[selected]\n",
    "pd.Series(coefs, index=features).sort_values(ascending=False)"
   ]
  },
  {
   "cell_type": "code",
   "execution_count": 35,
   "metadata": {},
   "outputs": [
    {
     "name": "stdout",
     "output_type": "stream",
     "text": [
      "[-4.37115416e-01 -2.88690511e+20 -5.51842477e+19 -2.82391726e+14\n",
      " -5.37753048e+20 -4.32823485e-01 -6.04279717e+20 -4.37574636e-01\n",
      " -2.46897682e+20 -2.23669300e+20]\n",
      "[1.83741371e-02 4.97522501e+20 5.62804092e+19 5.64783453e+14\n",
      " 6.62606438e+20 1.75633460e-02 9.90472359e+20 1.83964299e-02\n",
      " 4.86522968e+20 1.84743557e+20]\n"
     ]
    }
   ],
   "source": [
    "score_mean = lr_search_cv.cv_results_['mean_test_score']\n",
    "score_std = lr_search_cv.cv_results_['std_test_score']\n",
    "print(score_mean)\n",
    "print(score_std)"
   ]
  },
  {
   "cell_type": "markdown",
   "metadata": {},
   "source": [
    "Lets's use the optimal parameters "
   ]
  },
  {
   "cell_type": "code",
   "execution_count": 36,
   "metadata": {},
   "outputs": [],
   "source": [
    "pipe3 = make_pipeline( SimpleImputer(strategy='mean'), \n",
    "    SelectKBest(score_func = f_regression, k=244),\n",
    "    MinMaxScaler(),\n",
    "    LinearRegression())"
   ]
  },
  {
   "cell_type": "code",
   "execution_count": 37,
   "metadata": {},
   "outputs": [
    {
     "data": {
      "text/html": [
       "<style>#sk-container-id-4 {color: black;background-color: white;}#sk-container-id-4 pre{padding: 0;}#sk-container-id-4 div.sk-toggleable {background-color: white;}#sk-container-id-4 label.sk-toggleable__label {cursor: pointer;display: block;width: 100%;margin-bottom: 0;padding: 0.3em;box-sizing: border-box;text-align: center;}#sk-container-id-4 label.sk-toggleable__label-arrow:before {content: \"▸\";float: left;margin-right: 0.25em;color: #696969;}#sk-container-id-4 label.sk-toggleable__label-arrow:hover:before {color: black;}#sk-container-id-4 div.sk-estimator:hover label.sk-toggleable__label-arrow:before {color: black;}#sk-container-id-4 div.sk-toggleable__content {max-height: 0;max-width: 0;overflow: hidden;text-align: left;background-color: #f0f8ff;}#sk-container-id-4 div.sk-toggleable__content pre {margin: 0.2em;color: black;border-radius: 0.25em;background-color: #f0f8ff;}#sk-container-id-4 input.sk-toggleable__control:checked~div.sk-toggleable__content {max-height: 200px;max-width: 100%;overflow: auto;}#sk-container-id-4 input.sk-toggleable__control:checked~label.sk-toggleable__label-arrow:before {content: \"▾\";}#sk-container-id-4 div.sk-estimator input.sk-toggleable__control:checked~label.sk-toggleable__label {background-color: #d4ebff;}#sk-container-id-4 div.sk-label input.sk-toggleable__control:checked~label.sk-toggleable__label {background-color: #d4ebff;}#sk-container-id-4 input.sk-hidden--visually {border: 0;clip: rect(1px 1px 1px 1px);clip: rect(1px, 1px, 1px, 1px);height: 1px;margin: -1px;overflow: hidden;padding: 0;position: absolute;width: 1px;}#sk-container-id-4 div.sk-estimator {font-family: monospace;background-color: #f0f8ff;border: 1px dotted black;border-radius: 0.25em;box-sizing: border-box;margin-bottom: 0.5em;}#sk-container-id-4 div.sk-estimator:hover {background-color: #d4ebff;}#sk-container-id-4 div.sk-parallel-item::after {content: \"\";width: 100%;border-bottom: 1px solid gray;flex-grow: 1;}#sk-container-id-4 div.sk-label:hover label.sk-toggleable__label {background-color: #d4ebff;}#sk-container-id-4 div.sk-serial::before {content: \"\";position: absolute;border-left: 1px solid gray;box-sizing: border-box;top: 0;bottom: 0;left: 50%;z-index: 0;}#sk-container-id-4 div.sk-serial {display: flex;flex-direction: column;align-items: center;background-color: white;padding-right: 0.2em;padding-left: 0.2em;position: relative;}#sk-container-id-4 div.sk-item {position: relative;z-index: 1;}#sk-container-id-4 div.sk-parallel {display: flex;align-items: stretch;justify-content: center;background-color: white;position: relative;}#sk-container-id-4 div.sk-item::before, #sk-container-id-4 div.sk-parallel-item::before {content: \"\";position: absolute;border-left: 1px solid gray;box-sizing: border-box;top: 0;bottom: 0;left: 50%;z-index: -1;}#sk-container-id-4 div.sk-parallel-item {display: flex;flex-direction: column;z-index: 1;position: relative;background-color: white;}#sk-container-id-4 div.sk-parallel-item:first-child::after {align-self: flex-end;width: 50%;}#sk-container-id-4 div.sk-parallel-item:last-child::after {align-self: flex-start;width: 50%;}#sk-container-id-4 div.sk-parallel-item:only-child::after {width: 0;}#sk-container-id-4 div.sk-dashed-wrapped {border: 1px dashed gray;margin: 0 0.4em 0.5em 0.4em;box-sizing: border-box;padding-bottom: 0.4em;background-color: white;}#sk-container-id-4 div.sk-label label {font-family: monospace;font-weight: bold;display: inline-block;line-height: 1.2em;}#sk-container-id-4 div.sk-label-container {text-align: center;}#sk-container-id-4 div.sk-container {/* jupyter's `normalize.less` sets `[hidden] { display: none; }` but bootstrap.min.css set `[hidden] { display: none !important; }` so we also need the `!important` here to be able to override the default hidden behavior on the sphinx rendered scikit-learn.org. See: https://github.com/scikit-learn/scikit-learn/issues/21755 */display: inline-block !important;position: relative;}#sk-container-id-4 div.sk-text-repr-fallback {display: none;}</style><div id=\"sk-container-id-4\" class=\"sk-top-container\"><div class=\"sk-text-repr-fallback\"><pre>Pipeline(steps=[(&#x27;simpleimputer&#x27;, SimpleImputer()),\n",
       "                (&#x27;selectkbest&#x27;,\n",
       "                 SelectKBest(k=244,\n",
       "                             score_func=&lt;function f_regression at 0x000001B02765BE20&gt;)),\n",
       "                (&#x27;minmaxscaler&#x27;, MinMaxScaler()),\n",
       "                (&#x27;linearregression&#x27;, LinearRegression())])</pre><b>In a Jupyter environment, please rerun this cell to show the HTML representation or trust the notebook. <br />On GitHub, the HTML representation is unable to render, please try loading this page with nbviewer.org.</b></div><div class=\"sk-container\" hidden><div class=\"sk-item sk-dashed-wrapped\"><div class=\"sk-label-container\"><div class=\"sk-label sk-toggleable\"><input class=\"sk-toggleable__control sk-hidden--visually\" id=\"sk-estimator-id-14\" type=\"checkbox\" ><label for=\"sk-estimator-id-14\" class=\"sk-toggleable__label sk-toggleable__label-arrow\">Pipeline</label><div class=\"sk-toggleable__content\"><pre>Pipeline(steps=[(&#x27;simpleimputer&#x27;, SimpleImputer()),\n",
       "                (&#x27;selectkbest&#x27;,\n",
       "                 SelectKBest(k=244,\n",
       "                             score_func=&lt;function f_regression at 0x000001B02765BE20&gt;)),\n",
       "                (&#x27;minmaxscaler&#x27;, MinMaxScaler()),\n",
       "                (&#x27;linearregression&#x27;, LinearRegression())])</pre></div></div></div><div class=\"sk-serial\"><div class=\"sk-item\"><div class=\"sk-estimator sk-toggleable\"><input class=\"sk-toggleable__control sk-hidden--visually\" id=\"sk-estimator-id-15\" type=\"checkbox\" ><label for=\"sk-estimator-id-15\" class=\"sk-toggleable__label sk-toggleable__label-arrow\">SimpleImputer</label><div class=\"sk-toggleable__content\"><pre>SimpleImputer()</pre></div></div></div><div class=\"sk-item\"><div class=\"sk-estimator sk-toggleable\"><input class=\"sk-toggleable__control sk-hidden--visually\" id=\"sk-estimator-id-16\" type=\"checkbox\" ><label for=\"sk-estimator-id-16\" class=\"sk-toggleable__label sk-toggleable__label-arrow\">SelectKBest</label><div class=\"sk-toggleable__content\"><pre>SelectKBest(k=244, score_func=&lt;function f_regression at 0x000001B02765BE20&gt;)</pre></div></div></div><div class=\"sk-item\"><div class=\"sk-estimator sk-toggleable\"><input class=\"sk-toggleable__control sk-hidden--visually\" id=\"sk-estimator-id-17\" type=\"checkbox\" ><label for=\"sk-estimator-id-17\" class=\"sk-toggleable__label sk-toggleable__label-arrow\">MinMaxScaler</label><div class=\"sk-toggleable__content\"><pre>MinMaxScaler()</pre></div></div></div><div class=\"sk-item\"><div class=\"sk-estimator sk-toggleable\"><input class=\"sk-toggleable__control sk-hidden--visually\" id=\"sk-estimator-id-18\" type=\"checkbox\" ><label for=\"sk-estimator-id-18\" class=\"sk-toggleable__label sk-toggleable__label-arrow\">LinearRegression</label><div class=\"sk-toggleable__content\"><pre>LinearRegression()</pre></div></div></div></div></div></div></div>"
      ],
      "text/plain": [
       "Pipeline(steps=[('simpleimputer', SimpleImputer()),\n",
       "                ('selectkbest',\n",
       "                 SelectKBest(k=244,\n",
       "                             score_func=<function f_regression at 0x000001B02765BE20>)),\n",
       "                ('minmaxscaler', MinMaxScaler()),\n",
       "                ('linearregression', LinearRegression())])"
      ]
     },
     "execution_count": 37,
     "metadata": {},
     "output_type": "execute_result"
    }
   ],
   "source": [
    "pipe3.fit(X_train, y_train)"
   ]
  },
  {
   "cell_type": "code",
   "execution_count": 38,
   "metadata": {},
   "outputs": [],
   "source": [
    "y3_tr_pred = pipe3.predict(X_train)\n",
    "y3_te_pred = pipe3.predict(X_test)"
   ]
  },
  {
   "cell_type": "code",
   "execution_count": 39,
   "metadata": {},
   "outputs": [
    {
     "name": "stdout",
     "output_type": "stream",
     "text": [
      "Training set R2 score:  0.5236149450226775\n",
      "Testing set R2 score:  0.49922844519865917\n"
     ]
    }
   ],
   "source": [
    "print(\"Training set R2 score: \",r2_score(y_train, y3_tr_pred))\n",
    "print(\"Testing set R2 score: \",r2_score(y_test, y3_te_pred))"
   ]
  },
  {
   "cell_type": "code",
   "execution_count": 40,
   "metadata": {},
   "outputs": [
    {
     "name": "stdout",
     "output_type": "stream",
     "text": [
      "MAE of training set:  0.4833688444273289\n",
      "MAE of testing set:  0.4922444700865678\n"
     ]
    }
   ],
   "source": [
    "print(\"MAE of training set: \",mean_absolute_error(y_train, y3_tr_pred)) \n",
    "print(\"MAE of testing set: \",mean_absolute_error(y_test, y3_te_pred))"
   ]
  },
  {
   "cell_type": "code",
   "execution_count": 41,
   "metadata": {},
   "outputs": [
    {
     "name": "stdout",
     "output_type": "stream",
     "text": [
      "RMSE of training set:  0.622415386452832\n",
      "RMSE of the testing set:  0.6381653110002055\n"
     ]
    }
   ],
   "source": [
    "#check RMSE, the lower the better, lower indicates a better model\n",
    "print(\"RMSE of training set: \", np.sqrt(mean_squared_error(y_train, y3_tr_pred)))\n",
    "print(\"RMSE of the testing set: \", np.sqrt(mean_squared_error(y_test, y3_te_pred)))"
   ]
  },
  {
   "cell_type": "code",
   "execution_count": 42,
   "metadata": {},
   "outputs": [],
   "source": [
    "selected = pipe3.named_steps.selectkbest.get_support()\n",
    "coefs = pipe3.named_steps.linearregression.coef_\n",
    "features = X_train.columns[selected]\n",
    "coef_best = pd.Series(coefs, index=features).sort_values(ascending=False).head(10)"
   ]
  },
  {
   "cell_type": "code",
   "execution_count": 43,
   "metadata": {},
   "outputs": [
    {
     "data": {
      "text/plain": [
       "Text(0.5, 1.0, 'Linear Regression Coefs')"
      ]
     },
     "execution_count": 43,
     "metadata": {},
     "output_type": "execute_result"
    },
    {
     "data": {
      "image/png": "[encoded data removed]",
      "text/plain": [
       "<Figure size 640x480 with 1 Axes>"
      ]
     },
     "metadata": {},
     "output_type": "display_data"
    }
   ],
   "source": [
    "coef_best.plot(kind='bar')\n",
    "plt.xlabel('features')\n",
    "plt.ylabel('coef')\n",
    "plt.title('Linear Regression Coefs')"
   ]
  },
  {
   "cell_type": "markdown",
   "metadata": {},
   "source": [
    "Cross validate"
   ]
  },
  {
   "cell_type": "code",
   "execution_count": 44,
   "metadata": {},
   "outputs": [],
   "source": [
    "cv_scores_test= cross_val_score(pipe3, X_test, y_test, cv=5)\n",
    "cv_scores_train= cross_val_score(pipe3, X_train, y_train, cv=5)"
   ]
  },
  {
   "cell_type": "code",
   "execution_count": 45,
   "metadata": {},
   "outputs": [],
   "source": [
    "cv_scores_lr_test= cv_scores_test.mean()\n",
    "cv_scores_lr_train= cv_scores_train.mean()\n",
    "cv_scores_std_test_lr= cv_scores_test.std()"
   ]
  },
  {
   "cell_type": "code",
   "execution_count": 46,
   "metadata": {},
   "outputs": [
    {
     "name": "stdout",
     "output_type": "stream",
     "text": [
      "Mean cross validation test score: -9.653828973576743e+20\n",
      "Mean cross validation train score: 0.4857273525186023\n",
      "Standard deviation in cv test scores: 1.456862415071691e+21\n"
     ]
    }
   ],
   "source": [
    "print ('Mean cross validation test score: ' +str(cv_scores_lr_test))\n",
    "print ('Mean cross validation train score: ' +str(cv_scores_lr_train))\n",
    "print ('Standard deviation in cv test scores: ' +str(cv_scores_std_test_lr))"
   ]
  },
  {
   "cell_type": "code",
   "execution_count": 52,
   "metadata": {},
   "outputs": [
    {
     "data": {
      "text/plain": [
       "array([ 2.68139574e-02,  1.03899520e-01, -5.81978126e-01,  3.29935169e-01,\n",
       "        7.85957003e-02,  2.23828869e-01,  1.24658381e-01, -2.41618660e-01,\n",
       "       -3.25510456e-01,  1.72305472e-01,  8.13235814e-02,  4.29371442e-02,\n",
       "        2.38284862e-02,  7.41240040e-02,  1.15877792e-01,  3.00185558e-01,\n",
       "        3.73459622e-01,  5.03920481e-01,  4.22198541e-02,  3.27948716e-01,\n",
       "        2.36820504e-01,  3.07326594e-02,  9.93051212e-02,  3.73621685e-01,\n",
       "        8.37876048e-02,  5.73060876e-01,  2.10953081e-01,  4.25977511e-01,\n",
       "        7.71092452e-02,  1.72030055e-01,  8.28223871e-02,  3.08542161e-02,\n",
       "        2.30578682e-01,  4.04093563e-01,  8.54344650e-02,  4.92479162e-01,\n",
       "        2.61149931e-01,  1.43804335e-01,  6.45613895e-02,  2.16512475e-02,\n",
       "       -1.93952760e-01,  2.76183682e-01,  1.72941627e-01,  9.64704074e-02,\n",
       "        8.35288373e-02,  1.03311231e-01,  1.93029957e-01,  3.89981597e-01,\n",
       "        2.13626963e-01, -3.93027297e-01,  5.36255637e-01,  5.68100324e-01,\n",
       "       -6.55784417e-01,  3.93400022e-01,  3.38458068e-01, -3.53148129e-01,\n",
       "        4.95985794e-01,  9.72949665e-02,  7.18827769e-01, -1.57535578e+00,\n",
       "        5.76878614e-01,  3.69683049e-01,  2.90278362e-01, -3.46953948e-01,\n",
       "        7.34739235e-01,  5.26194333e-01,  2.05864448e-01,  3.17252715e-01,\n",
       "       -3.29853969e-01, -1.09166496e+00,  6.26900739e-01,  9.17000971e-02,\n",
       "        2.03815178e-01,  3.31806496e-01,  3.81198067e-01,  6.11965892e-01,\n",
       "        2.09368686e-01,  4.16343402e-01,  3.26735454e-01,  8.93266556e-01,\n",
       "        2.07138563e-01, -5.14210798e-01, -1.07166985e+12,  3.99186621e-01,\n",
       "        3.48882864e-01,  1.98909789e-01,  3.10309985e-01, -3.41350393e-01,\n",
       "        3.94066610e-01,  2.64194090e-01,  2.45987256e-01, -7.21488480e-02,\n",
       "       -1.11329739e-01,  1.34307193e-01,  3.63681079e-02,  2.70547321e-01,\n",
       "        2.09751561e-01,  2.45850625e-01, -9.59691106e-02, -9.37408461e-02,\n",
       "       -2.52019701e-01,  3.12457352e-02,  2.51365364e-01,  1.39286054e-01,\n",
       "       -2.48868650e-01,  5.71799314e-01,  2.52447754e-01,  8.54454178e-02,\n",
       "       -2.39977737e+00, -5.14357621e-01,  2.41722063e-01, -7.21921261e-01,\n",
       "        1.42107869e-01,  1.54328755e-01,  5.40299518e-02,  1.50147471e-01,\n",
       "        9.69862666e-02,  1.24520306e-01,  3.37753698e-01,  1.57637873e-01,\n",
       "        2.24745901e-02,  1.52530413e-02,  3.03201342e-01,  7.70984161e-02,\n",
       "       -1.18303156e+00,  4.66610442e+11, -9.50105677e-02,  8.91624860e-02,\n",
       "        5.20476324e-02,  3.58201047e-01,  7.90354115e-02, -1.55224797e-01,\n",
       "       -1.46015915e-01,  7.62284385e-02, -6.48378439e-02,  9.24099024e-02,\n",
       "       -1.37127197e+00, -1.41039605e-01,  1.22131167e-02, -8.41364098e-02,\n",
       "       -7.84611604e-02, -6.73732122e-02,  1.19859257e-01,  1.66759179e-01,\n",
       "        4.13667403e-02,  7.30340745e-01,  9.24937202e-02,  3.45994907e-02,\n",
       "        2.45518260e-01,  1.82530489e-01,  6.79008504e-02,  1.20715286e-01,\n",
       "        3.86598696e-01, -1.20906581e+00,  5.31666131e-02,  8.79146625e-02,\n",
       "        1.63611697e-01,  4.73694879e-02,  1.07166985e+12,  4.46925162e-01,\n",
       "        6.39229624e-02, -2.21038619e-01,  1.40694357e-01,  1.61192756e-01,\n",
       "       -5.23405572e-02,  1.70060123e-01,  6.44208218e-02,  1.40906232e-01,\n",
       "        4.77867311e-01,  3.22833822e-01, -1.31807920e-02,  2.16793542e-02,\n",
       "        6.22484777e-01,  1.61701760e-01,  6.32990880e-02,  7.20737141e-02,\n",
       "        1.51114377e-01,  1.78716841e-01, -4.71949559e-02,  3.78901588e-01,\n",
       "        2.69090199e-01,  1.95214206e-01,  2.32537283e-01,  2.85565753e-02,\n",
       "       -5.23069797e-01, -3.36100242e-01,  6.28511254e-01, -5.92227472e-01,\n",
       "       -1.18682559e+00,  1.40371912e-01,  3.90537824e-02,  6.14213374e-01,\n",
       "        5.00764350e-02, -9.10174784e-02,  5.29342081e-02,  4.54146599e-01,\n",
       "        3.47153461e-01,  8.41903520e-02,  1.74404172e-01,  3.67778729e-01,\n",
       "        1.00347744e+00, -4.66610442e+11,  1.55140495e-01,  1.11032561e-01,\n",
       "        4.37940991e-01,  6.68172923e-02,  1.12577051e-02, -2.77308750e-01,\n",
       "        3.40770829e-01,  1.52536279e-01, -2.55573916e-01, -4.56816754e-02,\n",
       "        2.12152996e-01,  7.00256100e-01,  2.47161786e-01,  9.21452638e-01,\n",
       "        2.20827681e-01,  5.12616827e+11, -5.12616827e+11,  2.55388572e-01,\n",
       "       -1.75223339e-01,  2.07956948e-01,  2.93914118e-01,  1.09496993e-01,\n",
       "       -2.19552769e-02, -1.40703929e-02,  1.78664709e-01,  3.56719571e-01,\n",
       "        2.36662005e-01,  1.74569467e-01, -4.57136477e-03, -5.12936351e-02,\n",
       "        2.08419674e-01,  3.44315788e-01, -1.35380235e-01,  8.63721222e-02,\n",
       "        1.05730581e-01, -1.81529047e-01,  5.65983466e-01,  6.92750872e-02,\n",
       "        8.36764148e-02,  2.12303003e-01,  5.67323809e-02,  2.86348813e-01])"
      ]
     },
     "execution_count": 52,
     "metadata": {},
     "output_type": "execute_result"
    }
   ],
   "source": [
    "model3= pipe3.named_steps['linearregression']\n",
    "model3.coef_"
   ]
  },
  {
   "cell_type": "markdown",
   "metadata": {},
   "source": [
    "# Random Forest model"
   ]
  },
  {
   "cell_type": "code",
   "execution_count": 18,
   "metadata": {},
   "outputs": [],
   "source": [
    "RF_pipe = make_pipeline(\n",
    "    SimpleImputer(strategy='median'),\n",
    "    MinMaxScaler(),\n",
    "    RandomForestRegressor(random_state=47)\n",
    ")"
   ]
  },
  {
   "cell_type": "code",
   "execution_count": 19,
   "metadata": {},
   "outputs": [
    {
     "data": {
      "text/html": [
       "<style>#sk-container-id-2 {color: black;background-color: white;}#sk-container-id-2 pre{padding: 0;}#sk-container-id-2 div.sk-toggleable {background-color: white;}#sk-container-id-2 label.sk-toggleable__label {cursor: pointer;display: block;width: 100%;margin-bottom: 0;padding: 0.3em;box-sizing: border-box;text-align: center;}#sk-container-id-2 label.sk-toggleable__label-arrow:before {content: \"▸\";float: left;margin-right: 0.25em;color: #696969;}#sk-container-id-2 label.sk-toggleable__label-arrow:hover:before {color: black;}#sk-container-id-2 div.sk-estimator:hover label.sk-toggleable__label-arrow:before {color: black;}#sk-container-id-2 div.sk-toggleable__content {max-height: 0;max-width: 0;overflow: hidden;text-align: left;background-color: #f0f8ff;}#sk-container-id-2 div.sk-toggleable__content pre {margin: 0.2em;color: black;border-radius: 0.25em;background-color: #f0f8ff;}#sk-container-id-2 input.sk-toggleable__control:checked~div.sk-toggleable__content {max-height: 200px;max-width: 100%;overflow: auto;}#sk-container-id-2 input.sk-toggleable__control:checked~label.sk-toggleable__label-arrow:before {content: \"▾\";}#sk-container-id-2 div.sk-estimator input.sk-toggleable__control:checked~label.sk-toggleable__label {background-color: #d4ebff;}#sk-container-id-2 div.sk-label input.sk-toggleable__control:checked~label.sk-toggleable__label {background-color: #d4ebff;}#sk-container-id-2 input.sk-hidden--visually {border: 0;clip: rect(1px 1px 1px 1px);clip: rect(1px, 1px, 1px, 1px);height: 1px;margin: -1px;overflow: hidden;padding: 0;position: absolute;width: 1px;}#sk-container-id-2 div.sk-estimator {font-family: monospace;background-color: #f0f8ff;border: 1px dotted black;border-radius: 0.25em;box-sizing: border-box;margin-bottom: 0.5em;}#sk-container-id-2 div.sk-estimator:hover {background-color: #d4ebff;}#sk-container-id-2 div.sk-parallel-item::after {content: \"\";width: 100%;border-bottom: 1px solid gray;flex-grow: 1;}#sk-container-id-2 div.sk-label:hover label.sk-toggleable__label {background-color: #d4ebff;}#sk-container-id-2 div.sk-serial::before {content: \"\";position: absolute;border-left: 1px solid gray;box-sizing: border-box;top: 0;bottom: 0;left: 50%;z-index: 0;}#sk-container-id-2 div.sk-serial {display: flex;flex-direction: column;align-items: center;background-color: white;padding-right: 0.2em;padding-left: 0.2em;position: relative;}#sk-container-id-2 div.sk-item {position: relative;z-index: 1;}#sk-container-id-2 div.sk-parallel {display: flex;align-items: stretch;justify-content: center;background-color: white;position: relative;}#sk-container-id-2 div.sk-item::before, #sk-container-id-2 div.sk-parallel-item::before {content: \"\";position: absolute;border-left: 1px solid gray;box-sizing: border-box;top: 0;bottom: 0;left: 50%;z-index: -1;}#sk-container-id-2 div.sk-parallel-item {display: flex;flex-direction: column;z-index: 1;position: relative;background-color: white;}#sk-container-id-2 div.sk-parallel-item:first-child::after {align-self: flex-end;width: 50%;}#sk-container-id-2 div.sk-parallel-item:last-child::after {align-self: flex-start;width: 50%;}#sk-container-id-2 div.sk-parallel-item:only-child::after {width: 0;}#sk-container-id-2 div.sk-dashed-wrapped {border: 1px dashed gray;margin: 0 0.4em 0.5em 0.4em;box-sizing: border-box;padding-bottom: 0.4em;background-color: white;}#sk-container-id-2 div.sk-label label {font-family: monospace;font-weight: bold;display: inline-block;line-height: 1.2em;}#sk-container-id-2 div.sk-label-container {text-align: center;}#sk-container-id-2 div.sk-container {/* jupyter's `normalize.less` sets `[hidden] { display: none; }` but bootstrap.min.css set `[hidden] { display: none !important; }` so we also need the `!important` here to be able to override the default hidden behavior on the sphinx rendered scikit-learn.org. See: https://github.com/scikit-learn/scikit-learn/issues/21755 */display: inline-block !important;position: relative;}#sk-container-id-2 div.sk-text-repr-fallback {display: none;}</style><div id=\"sk-container-id-2\" class=\"sk-top-container\"><div class=\"sk-text-repr-fallback\"><pre>Pipeline(steps=[(&#x27;simpleimputer&#x27;, SimpleImputer(strategy=&#x27;median&#x27;)),\n",
       "                (&#x27;minmaxscaler&#x27;, MinMaxScaler()),\n",
       "                (&#x27;randomforestregressor&#x27;,\n",
       "                 RandomForestRegressor(random_state=47))])</pre><b>In a Jupyter environment, please rerun this cell to show the HTML representation or trust the notebook. <br />On GitHub, the HTML representation is unable to render, please try loading this page with nbviewer.org.</b></div><div class=\"sk-container\" hidden><div class=\"sk-item sk-dashed-wrapped\"><div class=\"sk-label-container\"><div class=\"sk-label sk-toggleable\"><input class=\"sk-toggleable__control sk-hidden--visually\" id=\"sk-estimator-id-5\" type=\"checkbox\" ><label for=\"sk-estimator-id-5\" class=\"sk-toggleable__label sk-toggleable__label-arrow\">Pipeline</label><div class=\"sk-toggleable__content\"><pre>Pipeline(steps=[(&#x27;simpleimputer&#x27;, SimpleImputer(strategy=&#x27;median&#x27;)),\n",
       "                (&#x27;minmaxscaler&#x27;, MinMaxScaler()),\n",
       "                (&#x27;randomforestregressor&#x27;,\n",
       "                 RandomForestRegressor(random_state=47))])</pre></div></div></div><div class=\"sk-serial\"><div class=\"sk-item\"><div class=\"sk-estimator sk-toggleable\"><input class=\"sk-toggleable__control sk-hidden--visually\" id=\"sk-estimator-id-6\" type=\"checkbox\" ><label for=\"sk-estimator-id-6\" class=\"sk-toggleable__label sk-toggleable__label-arrow\">SimpleImputer</label><div class=\"sk-toggleable__content\"><pre>SimpleImputer(strategy=&#x27;median&#x27;)</pre></div></div></div><div class=\"sk-item\"><div class=\"sk-estimator sk-toggleable\"><input class=\"sk-toggleable__control sk-hidden--visually\" id=\"sk-estimator-id-7\" type=\"checkbox\" ><label for=\"sk-estimator-id-7\" class=\"sk-toggleable__label sk-toggleable__label-arrow\">MinMaxScaler</label><div class=\"sk-toggleable__content\"><pre>MinMaxScaler()</pre></div></div></div><div class=\"sk-item\"><div class=\"sk-estimator sk-toggleable\"><input class=\"sk-toggleable__control sk-hidden--visually\" id=\"sk-estimator-id-8\" type=\"checkbox\" ><label for=\"sk-estimator-id-8\" class=\"sk-toggleable__label sk-toggleable__label-arrow\">RandomForestRegressor</label><div class=\"sk-toggleable__content\"><pre>RandomForestRegressor(random_state=47)</pre></div></div></div></div></div></div></div>"
      ],
      "text/plain": [
       "Pipeline(steps=[('simpleimputer', SimpleImputer(strategy='median')),\n",
       "                ('minmaxscaler', MinMaxScaler()),\n",
       "                ('randomforestregressor',\n",
       "                 RandomForestRegressor(random_state=47))])"
      ]
     },
     "execution_count": 19,
     "metadata": {},
     "output_type": "execute_result"
    }
   ],
   "source": [
    "RF_pipe.fit(X_train,y_train)"
   ]
  },
  {
   "cell_type": "code",
   "execution_count": 20,
   "metadata": {},
   "outputs": [],
   "source": [
    "yRF_tr_pred = RF_pipe.predict(X_train)\n",
    "yRF_te_pred = RF_pipe.predict(X_test)"
   ]
  },
  {
   "cell_type": "code",
   "execution_count": 21,
   "metadata": {},
   "outputs": [
    {
     "name": "stdout",
     "output_type": "stream",
     "text": [
      "Training set R2 score:  0.9253423869801973\n",
      "Testing set R2 score:  0.5590318503756743\n"
     ]
    }
   ],
   "source": [
    "#higher the better\n",
    "print(\"Training set R2 score: \",r2_score(y_train, yRF_tr_pred))\n",
    "print(\"Testing set R2 score: \",r2_score(y_test, yRF_te_pred))"
   ]
  },
  {
   "cell_type": "code",
   "execution_count": 22,
   "metadata": {},
   "outputs": [
    {
     "name": "stdout",
     "output_type": "stream",
     "text": [
      "MAE of training set:  0.18050868170710235\n",
      "MAE of testing set:  0.443535481225291\n"
     ]
    }
   ],
   "source": [
    "# lower the better\n",
    "print(\"MAE of training set: \",mean_absolute_error(y_train, yRF_tr_pred)) \n",
    "print(\"MAE of testing set: \",mean_absolute_error(y_test, yRF_te_pred))"
   ]
  },
  {
   "cell_type": "code",
   "execution_count": 23,
   "metadata": {},
   "outputs": [
    {
     "name": "stdout",
     "output_type": "stream",
     "text": [
      "RMSE of training set:  0.246398639816502\n",
      "RMSE of the testing set:  0.5988485173057043\n"
     ]
    }
   ],
   "source": [
    "#check RMSE, the lower the better, lower indicates a better model\n",
    "print(\"RMSE of training set: \", np.sqrt(mean_squared_error(y_train, yRF_tr_pred)))\n",
    "print(\"RMSE of the testing set: \", np.sqrt(mean_squared_error(y_test, yRF_te_pred)))"
   ]
  },
  {
   "cell_type": "markdown",
   "metadata": {},
   "source": [
    "These metrics look better than our linear Regression model.Let's see "
   ]
  },
  {
   "cell_type": "code",
   "execution_count": 24,
   "metadata": {},
   "outputs": [],
   "source": [
    "# Number of trees in random forest\n",
    "n_estimators = [int(x) for x in np.linspace(start = 1, stop = 3, num = 20)]\n",
    "# Number of features to consider at every split\n",
    "max_features = ['auto', 'sqrt']\n",
    "# Maximum number of levels in tree\n",
    "max_depth = [int(x) for x in np.linspace(10, 110, num = 11)]\n",
    "max_depth.append(None)\n",
    "# Minimum number of samples required to split a node\n",
    "min_samples_split = [2, 5, 10]\n",
    "# Minimum number of samples required at each leaf node\n",
    "min_samples_leaf = [1, 2, 4]\n",
    "# Method of selecting samples for training each tree\n",
    "bootstrap = [True, False]# Create the random grid\n",
    "random_grid = {'randomforestregressor__n_estimators': n_estimators,\n",
    "               'randomforestregressor__max_features': max_features,\n",
    "               'randomforestregressor__max_depth': max_depth,\n",
    "               'randomforestregressor__min_samples_split': min_samples_split,\n",
    "               'randomforestregressor__min_samples_leaf': min_samples_leaf,\n",
    "               'randomforestregressor__bootstrap': bootstrap,\n",
    "               'simpleimputer__strategy': ['mean', 'median']\n",
    "               }"
   ]
  },
  {
   "cell_type": "code",
   "execution_count": 47,
   "metadata": {},
   "outputs": [],
   "source": [
    "rf_search_cv = RandomizedSearchCV(RF_pipe, random_grid, cv=5, n_jobs=-1)"
   ]
  },
  {
   "cell_type": "code",
   "execution_count": 48,
   "metadata": {},
   "outputs": [
    {
     "name": "stderr",
     "output_type": "stream",
     "text": [
      "c:\\Users\\sydne\\anaconda3\\Lib\\site-packages\\sklearn\\ensemble\\_forest.py:413: FutureWarning: `max_features='auto'` has been deprecated in 1.1 and will be removed in 1.3. To keep the past behaviour, explicitly set `max_features=1.0` or remove this parameter as it is also the default value for RandomForestRegressors and ExtraTreesRegressors.\n",
      "  warn(\n"
     ]
    },
    {
     "data": {
      "text/html": [
       "<style>#sk-container-id-5 {color: black;background-color: white;}#sk-container-id-5 pre{padding: 0;}#sk-container-id-5 div.sk-toggleable {background-color: white;}#sk-container-id-5 label.sk-toggleable__label {cursor: pointer;display: block;width: 100%;margin-bottom: 0;padding: 0.3em;box-sizing: border-box;text-align: center;}#sk-container-id-5 label.sk-toggleable__label-arrow:before {content: \"▸\";float: left;margin-right: 0.25em;color: #696969;}#sk-container-id-5 label.sk-toggleable__label-arrow:hover:before {color: black;}#sk-container-id-5 div.sk-estimator:hover label.sk-toggleable__label-arrow:before {color: black;}#sk-container-id-5 div.sk-toggleable__content {max-height: 0;max-width: 0;overflow: hidden;text-align: left;background-color: #f0f8ff;}#sk-container-id-5 div.sk-toggleable__content pre {margin: 0.2em;color: black;border-radius: 0.25em;background-color: #f0f8ff;}#sk-container-id-5 input.sk-toggleable__control:checked~div.sk-toggleable__content {max-height: 200px;max-width: 100%;overflow: auto;}#sk-container-id-5 input.sk-toggleable__control:checked~label.sk-toggleable__label-arrow:before {content: \"▾\";}#sk-container-id-5 div.sk-estimator input.sk-toggleable__control:checked~label.sk-toggleable__label {background-color: #d4ebff;}#sk-container-id-5 div.sk-label input.sk-toggleable__control:checked~label.sk-toggleable__label {background-color: #d4ebff;}#sk-container-id-5 input.sk-hidden--visually {border: 0;clip: rect(1px 1px 1px 1px);clip: rect(1px, 1px, 1px, 1px);height: 1px;margin: -1px;overflow: hidden;padding: 0;position: absolute;width: 1px;}#sk-container-id-5 div.sk-estimator {font-family: monospace;background-color: #f0f8ff;border: 1px dotted black;border-radius: 0.25em;box-sizing: border-box;margin-bottom: 0.5em;}#sk-container-id-5 div.sk-estimator:hover {background-color: #d4ebff;}#sk-container-id-5 div.sk-parallel-item::after {content: \"\";width: 100%;border-bottom: 1px solid gray;flex-grow: 1;}#sk-container-id-5 div.sk-label:hover label.sk-toggleable__label {background-color: #d4ebff;}#sk-container-id-5 div.sk-serial::before {content: \"\";position: absolute;border-left: 1px solid gray;box-sizing: border-box;top: 0;bottom: 0;left: 50%;z-index: 0;}#sk-container-id-5 div.sk-serial {display: flex;flex-direction: column;align-items: center;background-color: white;padding-right: 0.2em;padding-left: 0.2em;position: relative;}#sk-container-id-5 div.sk-item {position: relative;z-index: 1;}#sk-container-id-5 div.sk-parallel {display: flex;align-items: stretch;justify-content: center;background-color: white;position: relative;}#sk-container-id-5 div.sk-item::before, #sk-container-id-5 div.sk-parallel-item::before {content: \"\";position: absolute;border-left: 1px solid gray;box-sizing: border-box;top: 0;bottom: 0;left: 50%;z-index: -1;}#sk-container-id-5 div.sk-parallel-item {display: flex;flex-direction: column;z-index: 1;position: relative;background-color: white;}#sk-container-id-5 div.sk-parallel-item:first-child::after {align-self: flex-end;width: 50%;}#sk-container-id-5 div.sk-parallel-item:last-child::after {align-self: flex-start;width: 50%;}#sk-container-id-5 div.sk-parallel-item:only-child::after {width: 0;}#sk-container-id-5 div.sk-dashed-wrapped {border: 1px dashed gray;margin: 0 0.4em 0.5em 0.4em;box-sizing: border-box;padding-bottom: 0.4em;background-color: white;}#sk-container-id-5 div.sk-label label {font-family: monospace;font-weight: bold;display: inline-block;line-height: 1.2em;}#sk-container-id-5 div.sk-label-container {text-align: center;}#sk-container-id-5 div.sk-container {/* jupyter's `normalize.less` sets `[hidden] { display: none; }` but bootstrap.min.css set `[hidden] { display: none !important; }` so we also need the `!important` here to be able to override the default hidden behavior on the sphinx rendered scikit-learn.org. See: https://github.com/scikit-learn/scikit-learn/issues/21755 */display: inline-block !important;position: relative;}#sk-container-id-5 div.sk-text-repr-fallback {display: none;}</style><div id=\"sk-container-id-5\" class=\"sk-top-container\"><div class=\"sk-text-repr-fallback\"><pre>RandomizedSearchCV(cv=5,\n",
       "                   estimator=Pipeline(steps=[(&#x27;simpleimputer&#x27;,\n",
       "                                              SimpleImputer(strategy=&#x27;median&#x27;)),\n",
       "                                             (&#x27;minmaxscaler&#x27;, MinMaxScaler()),\n",
       "                                             (&#x27;randomforestregressor&#x27;,\n",
       "                                              RandomForestRegressor(random_state=47))]),\n",
       "                   n_jobs=-1,\n",
       "                   param_distributions={&#x27;randomforestregressor__bootstrap&#x27;: [True,\n",
       "                                                                             False],\n",
       "                                        &#x27;randomforestregressor__max_depth&#x27;: [10,\n",
       "                                                                             20,\n",
       "                                                                             30,\n",
       "                                                                             40,\n",
       "                                                                             50,\n",
       "                                                                             60,\n",
       "                                                                             70,\n",
       "                                                                             80,\n",
       "                                                                             90,\n",
       "                                                                             100,\n",
       "                                                                             110,\n",
       "                                                                             None],\n",
       "                                        &#x27;randomforestregressor__max_features&#x27;: [&#x27;auto&#x27;,\n",
       "                                                                                &#x27;sqrt&#x27;],\n",
       "                                        &#x27;randomforestregressor__min_samples_leaf&#x27;: [1,\n",
       "                                                                                    2,\n",
       "                                                                                    4],\n",
       "                                        &#x27;randomforestregressor__min_samples_split&#x27;: [2,\n",
       "                                                                                     5,\n",
       "                                                                                     10],\n",
       "                                        &#x27;randomforestregressor__n_estimators&#x27;: [1,\n",
       "                                                                                1,\n",
       "                                                                                1,\n",
       "                                                                                1,\n",
       "                                                                                1,\n",
       "                                                                                1,\n",
       "                                                                                1,\n",
       "                                                                                1,\n",
       "                                                                                1,\n",
       "                                                                                1,\n",
       "                                                                                2,\n",
       "                                                                                2,\n",
       "                                                                                2,\n",
       "                                                                                2,\n",
       "                                                                                2,\n",
       "                                                                                2,\n",
       "                                                                                2,\n",
       "                                                                                2,\n",
       "                                                                                2,\n",
       "                                                                                3],\n",
       "                                        &#x27;simpleimputer__strategy&#x27;: [&#x27;mean&#x27;,\n",
       "                                                                    &#x27;median&#x27;]})</pre><b>In a Jupyter environment, please rerun this cell to show the HTML representation or trust the notebook. <br />On GitHub, the HTML representation is unable to render, please try loading this page with nbviewer.org.</b></div><div class=\"sk-container\" hidden><div class=\"sk-item sk-dashed-wrapped\"><div class=\"sk-label-container\"><div class=\"sk-label sk-toggleable\"><input class=\"sk-toggleable__control sk-hidden--visually\" id=\"sk-estimator-id-19\" type=\"checkbox\" ><label for=\"sk-estimator-id-19\" class=\"sk-toggleable__label sk-toggleable__label-arrow\">RandomizedSearchCV</label><div class=\"sk-toggleable__content\"><pre>RandomizedSearchCV(cv=5,\n",
       "                   estimator=Pipeline(steps=[(&#x27;simpleimputer&#x27;,\n",
       "                                              SimpleImputer(strategy=&#x27;median&#x27;)),\n",
       "                                             (&#x27;minmaxscaler&#x27;, MinMaxScaler()),\n",
       "                                             (&#x27;randomforestregressor&#x27;,\n",
       "                                              RandomForestRegressor(random_state=47))]),\n",
       "                   n_jobs=-1,\n",
       "                   param_distributions={&#x27;randomforestregressor__bootstrap&#x27;: [True,\n",
       "                                                                             False],\n",
       "                                        &#x27;randomforestregressor__max_depth&#x27;: [10,\n",
       "                                                                             20,\n",
       "                                                                             30,\n",
       "                                                                             40,\n",
       "                                                                             50,\n",
       "                                                                             60,\n",
       "                                                                             70,\n",
       "                                                                             80,\n",
       "                                                                             90,\n",
       "                                                                             100,\n",
       "                                                                             110,\n",
       "                                                                             None],\n",
       "                                        &#x27;randomforestregressor__max_features&#x27;: [&#x27;auto&#x27;,\n",
       "                                                                                &#x27;sqrt&#x27;],\n",
       "                                        &#x27;randomforestregressor__min_samples_leaf&#x27;: [1,\n",
       "                                                                                    2,\n",
       "                                                                                    4],\n",
       "                                        &#x27;randomforestregressor__min_samples_split&#x27;: [2,\n",
       "                                                                                     5,\n",
       "                                                                                     10],\n",
       "                                        &#x27;randomforestregressor__n_estimators&#x27;: [1,\n",
       "                                                                                1,\n",
       "                                                                                1,\n",
       "                                                                                1,\n",
       "                                                                                1,\n",
       "                                                                                1,\n",
       "                                                                                1,\n",
       "                                                                                1,\n",
       "                                                                                1,\n",
       "                                                                                1,\n",
       "                                                                                2,\n",
       "                                                                                2,\n",
       "                                                                                2,\n",
       "                                                                                2,\n",
       "                                                                                2,\n",
       "                                                                                2,\n",
       "                                                                                2,\n",
       "                                                                                2,\n",
       "                                                                                2,\n",
       "                                                                                3],\n",
       "                                        &#x27;simpleimputer__strategy&#x27;: [&#x27;mean&#x27;,\n",
       "                                                                    &#x27;median&#x27;]})</pre></div></div></div><div class=\"sk-parallel\"><div class=\"sk-parallel-item\"><div class=\"sk-item\"><div class=\"sk-label-container\"><div class=\"sk-label sk-toggleable\"><input class=\"sk-toggleable__control sk-hidden--visually\" id=\"sk-estimator-id-20\" type=\"checkbox\" ><label for=\"sk-estimator-id-20\" class=\"sk-toggleable__label sk-toggleable__label-arrow\">estimator: Pipeline</label><div class=\"sk-toggleable__content\"><pre>Pipeline(steps=[(&#x27;simpleimputer&#x27;, SimpleImputer(strategy=&#x27;median&#x27;)),\n",
       "                (&#x27;minmaxscaler&#x27;, MinMaxScaler()),\n",
       "                (&#x27;randomforestregressor&#x27;,\n",
       "                 RandomForestRegressor(random_state=47))])</pre></div></div></div><div class=\"sk-serial\"><div class=\"sk-item\"><div class=\"sk-serial\"><div class=\"sk-item\"><div class=\"sk-estimator sk-toggleable\"><input class=\"sk-toggleable__control sk-hidden--visually\" id=\"sk-estimator-id-21\" type=\"checkbox\" ><label for=\"sk-estimator-id-21\" class=\"sk-toggleable__label sk-toggleable__label-arrow\">SimpleImputer</label><div class=\"sk-toggleable__content\"><pre>SimpleImputer(strategy=&#x27;median&#x27;)</pre></div></div></div><div class=\"sk-item\"><div class=\"sk-estimator sk-toggleable\"><input class=\"sk-toggleable__control sk-hidden--visually\" id=\"sk-estimator-id-22\" type=\"checkbox\" ><label for=\"sk-estimator-id-22\" class=\"sk-toggleable__label sk-toggleable__label-arrow\">MinMaxScaler</label><div class=\"sk-toggleable__content\"><pre>MinMaxScaler()</pre></div></div></div><div class=\"sk-item\"><div class=\"sk-estimator sk-toggleable\"><input class=\"sk-toggleable__control sk-hidden--visually\" id=\"sk-estimator-id-23\" type=\"checkbox\" ><label for=\"sk-estimator-id-23\" class=\"sk-toggleable__label sk-toggleable__label-arrow\">RandomForestRegressor</label><div class=\"sk-toggleable__content\"><pre>RandomForestRegressor(random_state=47)</pre></div></div></div></div></div></div></div></div></div></div></div></div>"
      ],
      "text/plain": [
       "RandomizedSearchCV(cv=5,\n",
       "                   estimator=Pipeline(steps=[('simpleimputer',\n",
       "                                              SimpleImputer(strategy='median')),\n",
       "                                             ('minmaxscaler', MinMaxScaler()),\n",
       "                                             ('randomforestregressor',\n",
       "                                              RandomForestRegressor(random_state=47))]),\n",
       "                   n_jobs=-1,\n",
       "                   param_distributions={'randomforestregressor__bootstrap': [True,\n",
       "                                                                             False],\n",
       "                                        'randomforestregressor__max_depth': [10,\n",
       "                                                                             20,\n",
       "                                                                             30,\n",
       "                                                                             40,\n",
       "                                                                             50,\n",
       "                                                                             60,\n",
       "                                                                             70,\n",
       "                                                                             80,\n",
       "                                                                             90,\n",
       "                                                                             100,\n",
       "                                                                             110,\n",
       "                                                                             None],\n",
       "                                        'randomforestregressor__max_features': ['auto',\n",
       "                                                                                'sqrt'],\n",
       "                                        'randomforestregressor__min_samples_leaf': [1,\n",
       "                                                                                    2,\n",
       "                                                                                    4],\n",
       "                                        'randomforestregressor__min_samples_split': [2,\n",
       "                                                                                     5,\n",
       "                                                                                     10],\n",
       "                                        'randomforestregressor__n_estimators': [1,\n",
       "                                                                                1,\n",
       "                                                                                1,\n",
       "                                                                                1,\n",
       "                                                                                1,\n",
       "                                                                                1,\n",
       "                                                                                1,\n",
       "                                                                                1,\n",
       "                                                                                1,\n",
       "                                                                                1,\n",
       "                                                                                2,\n",
       "                                                                                2,\n",
       "                                                                                2,\n",
       "                                                                                2,\n",
       "                                                                                2,\n",
       "                                                                                2,\n",
       "                                                                                2,\n",
       "                                                                                2,\n",
       "                                                                                2,\n",
       "                                                                                3],\n",
       "                                        'simpleimputer__strategy': ['mean',\n",
       "                                                                    'median']})"
      ]
     },
     "execution_count": 48,
     "metadata": {},
     "output_type": "execute_result"
    }
   ],
   "source": [
    "rf_search_cv.fit(X_train, y_train)"
   ]
  },
  {
   "cell_type": "code",
   "execution_count": 49,
   "metadata": {},
   "outputs": [
    {
     "data": {
      "text/plain": [
       "{'simpleimputer__strategy': 'mean',\n",
       " 'randomforestregressor__n_estimators': 3,\n",
       " 'randomforestregressor__min_samples_split': 5,\n",
       " 'randomforestregressor__min_samples_leaf': 1,\n",
       " 'randomforestregressor__max_features': 'auto',\n",
       " 'randomforestregressor__max_depth': 70,\n",
       " 'randomforestregressor__bootstrap': True}"
      ]
     },
     "execution_count": 49,
     "metadata": {},
     "output_type": "execute_result"
    }
   ],
   "source": [
    "rf_search_cv.best_params_"
   ]
  },
  {
   "cell_type": "code",
   "execution_count": 53,
   "metadata": {},
   "outputs": [],
   "source": [
    "RF2_pipe = make_pipeline(\n",
    "    SimpleImputer(strategy='mean'),\n",
    "    MinMaxScaler(),\n",
    "    RandomForestRegressor(random_state=47, n_estimators= 3,min_samples_split=5,min_samples_leaf=1,max_features='auto', max_depth=70, bootstrap =True)\n",
    ")"
   ]
  },
  {
   "cell_type": "code",
   "execution_count": 54,
   "metadata": {},
   "outputs": [
    {
     "name": "stderr",
     "output_type": "stream",
     "text": [
      "c:\\Users\\sydne\\anaconda3\\Lib\\site-packages\\sklearn\\ensemble\\_forest.py:413: FutureWarning: `max_features='auto'` has been deprecated in 1.1 and will be removed in 1.3. To keep the past behaviour, explicitly set `max_features=1.0` or remove this parameter as it is also the default value for RandomForestRegressors and ExtraTreesRegressors.\n",
      "  warn(\n"
     ]
    },
    {
     "data": {
      "text/html": [
       "<style>#sk-container-id-7 {color: black;background-color: white;}#sk-container-id-7 pre{padding: 0;}#sk-container-id-7 div.sk-toggleable {background-color: white;}#sk-container-id-7 label.sk-toggleable__label {cursor: pointer;display: block;width: 100%;margin-bottom: 0;padding: 0.3em;box-sizing: border-box;text-align: center;}#sk-container-id-7 label.sk-toggleable__label-arrow:before {content: \"▸\";float: left;margin-right: 0.25em;color: #696969;}#sk-container-id-7 label.sk-toggleable__label-arrow:hover:before {color: black;}#sk-container-id-7 div.sk-estimator:hover label.sk-toggleable__label-arrow:before {color: black;}#sk-container-id-7 div.sk-toggleable__content {max-height: 0;max-width: 0;overflow: hidden;text-align: left;background-color: #f0f8ff;}#sk-container-id-7 div.sk-toggleable__content pre {margin: 0.2em;color: black;border-radius: 0.25em;background-color: #f0f8ff;}#sk-container-id-7 input.sk-toggleable__control:checked~div.sk-toggleable__content {max-height: 200px;max-width: 100%;overflow: auto;}#sk-container-id-7 input.sk-toggleable__control:checked~label.sk-toggleable__label-arrow:before {content: \"▾\";}#sk-container-id-7 div.sk-estimator input.sk-toggleable__control:checked~label.sk-toggleable__label {background-color: #d4ebff;}#sk-container-id-7 div.sk-label input.sk-toggleable__control:checked~label.sk-toggleable__label {background-color: #d4ebff;}#sk-container-id-7 input.sk-hidden--visually {border: 0;clip: rect(1px 1px 1px 1px);clip: rect(1px, 1px, 1px, 1px);height: 1px;margin: -1px;overflow: hidden;padding: 0;position: absolute;width: 1px;}#sk-container-id-7 div.sk-estimator {font-family: monospace;background-color: #f0f8ff;border: 1px dotted black;border-radius: 0.25em;box-sizing: border-box;margin-bottom: 0.5em;}#sk-container-id-7 div.sk-estimator:hover {background-color: #d4ebff;}#sk-container-id-7 div.sk-parallel-item::after {content: \"\";width: 100%;border-bottom: 1px solid gray;flex-grow: 1;}#sk-container-id-7 div.sk-label:hover label.sk-toggleable__label {background-color: #d4ebff;}#sk-container-id-7 div.sk-serial::before {content: \"\";position: absolute;border-left: 1px solid gray;box-sizing: border-box;top: 0;bottom: 0;left: 50%;z-index: 0;}#sk-container-id-7 div.sk-serial {display: flex;flex-direction: column;align-items: center;background-color: white;padding-right: 0.2em;padding-left: 0.2em;position: relative;}#sk-container-id-7 div.sk-item {position: relative;z-index: 1;}#sk-container-id-7 div.sk-parallel {display: flex;align-items: stretch;justify-content: center;background-color: white;position: relative;}#sk-container-id-7 div.sk-item::before, #sk-container-id-7 div.sk-parallel-item::before {content: \"\";position: absolute;border-left: 1px solid gray;box-sizing: border-box;top: 0;bottom: 0;left: 50%;z-index: -1;}#sk-container-id-7 div.sk-parallel-item {display: flex;flex-direction: column;z-index: 1;position: relative;background-color: white;}#sk-container-id-7 div.sk-parallel-item:first-child::after {align-self: flex-end;width: 50%;}#sk-container-id-7 div.sk-parallel-item:last-child::after {align-self: flex-start;width: 50%;}#sk-container-id-7 div.sk-parallel-item:only-child::after {width: 0;}#sk-container-id-7 div.sk-dashed-wrapped {border: 1px dashed gray;margin: 0 0.4em 0.5em 0.4em;box-sizing: border-box;padding-bottom: 0.4em;background-color: white;}#sk-container-id-7 div.sk-label label {font-family: monospace;font-weight: bold;display: inline-block;line-height: 1.2em;}#sk-container-id-7 div.sk-label-container {text-align: center;}#sk-container-id-7 div.sk-container {/* jupyter's `normalize.less` sets `[hidden] { display: none; }` but bootstrap.min.css set `[hidden] { display: none !important; }` so we also need the `!important` here to be able to override the default hidden behavior on the sphinx rendered scikit-learn.org. See: https://github.com/scikit-learn/scikit-learn/issues/21755 */display: inline-block !important;position: relative;}#sk-container-id-7 div.sk-text-repr-fallback {display: none;}</style><div id=\"sk-container-id-7\" class=\"sk-top-container\"><div class=\"sk-text-repr-fallback\"><pre>Pipeline(steps=[(&#x27;simpleimputer&#x27;, SimpleImputer()),\n",
       "                (&#x27;minmaxscaler&#x27;, MinMaxScaler()),\n",
       "                (&#x27;randomforestregressor&#x27;,\n",
       "                 RandomForestRegressor(max_depth=70, max_features=&#x27;auto&#x27;,\n",
       "                                       min_samples_split=5, n_estimators=3,\n",
       "                                       random_state=47))])</pre><b>In a Jupyter environment, please rerun this cell to show the HTML representation or trust the notebook. <br />On GitHub, the HTML representation is unable to render, please try loading this page with nbviewer.org.</b></div><div class=\"sk-container\" hidden><div class=\"sk-item sk-dashed-wrapped\"><div class=\"sk-label-container\"><div class=\"sk-label sk-toggleable\"><input class=\"sk-toggleable__control sk-hidden--visually\" id=\"sk-estimator-id-27\" type=\"checkbox\" ><label for=\"sk-estimator-id-27\" class=\"sk-toggleable__label sk-toggleable__label-arrow\">Pipeline</label><div class=\"sk-toggleable__content\"><pre>Pipeline(steps=[(&#x27;simpleimputer&#x27;, SimpleImputer()),\n",
       "                (&#x27;minmaxscaler&#x27;, MinMaxScaler()),\n",
       "                (&#x27;randomforestregressor&#x27;,\n",
       "                 RandomForestRegressor(max_depth=70, max_features=&#x27;auto&#x27;,\n",
       "                                       min_samples_split=5, n_estimators=3,\n",
       "                                       random_state=47))])</pre></div></div></div><div class=\"sk-serial\"><div class=\"sk-item\"><div class=\"sk-estimator sk-toggleable\"><input class=\"sk-toggleable__control sk-hidden--visually\" id=\"sk-estimator-id-28\" type=\"checkbox\" ><label for=\"sk-estimator-id-28\" class=\"sk-toggleable__label sk-toggleable__label-arrow\">SimpleImputer</label><div class=\"sk-toggleable__content\"><pre>SimpleImputer()</pre></div></div></div><div class=\"sk-item\"><div class=\"sk-estimator sk-toggleable\"><input class=\"sk-toggleable__control sk-hidden--visually\" id=\"sk-estimator-id-29\" type=\"checkbox\" ><label for=\"sk-estimator-id-29\" class=\"sk-toggleable__label sk-toggleable__label-arrow\">MinMaxScaler</label><div class=\"sk-toggleable__content\"><pre>MinMaxScaler()</pre></div></div></div><div class=\"sk-item\"><div class=\"sk-estimator sk-toggleable\"><input class=\"sk-toggleable__control sk-hidden--visually\" id=\"sk-estimator-id-30\" type=\"checkbox\" ><label for=\"sk-estimator-id-30\" class=\"sk-toggleable__label sk-toggleable__label-arrow\">RandomForestRegressor</label><div class=\"sk-toggleable__content\"><pre>RandomForestRegressor(max_depth=70, max_features=&#x27;auto&#x27;, min_samples_split=5,\n",
       "                      n_estimators=3, random_state=47)</pre></div></div></div></div></div></div></div>"
      ],
      "text/plain": [
       "Pipeline(steps=[('simpleimputer', SimpleImputer()),\n",
       "                ('minmaxscaler', MinMaxScaler()),\n",
       "                ('randomforestregressor',\n",
       "                 RandomForestRegressor(max_depth=70, max_features='auto',\n",
       "                                       min_samples_split=5, n_estimators=3,\n",
       "                                       random_state=47))])"
      ]
     },
     "execution_count": 54,
     "metadata": {},
     "output_type": "execute_result"
    }
   ],
   "source": [
    "RF2_pipe.fit(X_train, y_train)"
   ]
  },
  {
   "cell_type": "code",
   "execution_count": 55,
   "metadata": {},
   "outputs": [],
   "source": [
    "yRF2_tr_pred = RF2_pipe.predict(X_train)\n",
    "yRF2_te_pred = RF2_pipe.predict(X_test)"
   ]
  },
  {
   "cell_type": "code",
   "execution_count": 56,
   "metadata": {},
   "outputs": [
    {
     "name": "stdout",
     "output_type": "stream",
     "text": [
      "Training set R2 score:  0.8363347336532241\n",
      "Testing set R2 score:  0.4795807423077928\n"
     ]
    }
   ],
   "source": [
    "#higher the better\n",
    "print(\"Training set R2 score: \",r2_score(y_train, yRF2_tr_pred))\n",
    "print(\"Testing set R2 score: \",r2_score(y_test, yRF2_te_pred))"
   ]
  },
  {
   "cell_type": "code",
   "execution_count": 58,
   "metadata": {},
   "outputs": [
    {
     "name": "stdout",
     "output_type": "stream",
     "text": [
      "MAE of training set:  0.2513499297634316\n",
      "MAE of testing set:  0.4897424742233033\n"
     ]
    }
   ],
   "source": [
    "# lower the better\n",
    "print(\"MAE of training set: \",mean_absolute_error(y_train, yRF2_tr_pred)) \n",
    "print(\"MAE of testing set: \",mean_absolute_error(y_test, yRF2_te_pred))"
   ]
  },
  {
   "cell_type": "code",
   "execution_count": 59,
   "metadata": {},
   "outputs": [
    {
     "name": "stdout",
     "output_type": "stream",
     "text": [
      "RMSE of training set:  0.3648207372742515\n",
      "RMSE of the testing set:  0.650564029529868\n"
     ]
    }
   ],
   "source": [
    "print(\"RMSE of training set: \", np.sqrt(mean_squared_error(y_train, yRF2_tr_pred)))\n",
    "print(\"RMSE of the testing set: \", np.sqrt(mean_squared_error(y_test, yRF2_te_pred)))"
   ]
  },
  {
   "cell_type": "markdown",
   "metadata": {},
   "source": [
    "With our parameter tuning, our metrics actually get worse, so let's stick without"
   ]
  },
  {
   "cell_type": "code",
   "execution_count": null,
   "metadata": {},
   "outputs": [],
   "source": [
    "\n",
    "rf_cv_scores_test= cross_val_score(RF_pipe, X_test, y_test, cv=5)\n",
    "rf_cv_scores_train= cross_val_score(RF_pipe, X_train, y_train, cv=5)"
   ]
  },
  {
   "cell_type": "code",
   "execution_count": 57,
   "metadata": {},
   "outputs": [],
   "source": [
    "cv_scores_rf_test= rf_cv_scores_test.mean()\n",
    "cv_scores_rf_train= rf_cv_scores_train.mean()\n",
    "cv_scores_std_test_rf= rf_cv_scores_test.std()"
   ]
  },
  {
   "cell_type": "code",
   "execution_count": 58,
   "metadata": {},
   "outputs": [
    {
     "name": "stdout",
     "output_type": "stream",
     "text": [
      "Mean cross validation test score: 0.49253300901953717\n",
      "Mean cross validation train score: 0.5567935438436515\n",
      "Standard deviation in cv test scores: 0.02058702074718875\n"
     ]
    }
   ],
   "source": [
    "print ('Mean cross validation test score: ' +str(cv_scores_rf_test))\n",
    "print ('Mean cross validation train score: ' +str(cv_scores_rf_train))\n",
    "print ('Standard deviation in cv test scores: ' +str(cv_scores_std_test_rf))"
   ]
  },
  {
   "cell_type": "markdown",
   "metadata": {},
   "source": [
    "The cross validation scores for Random Forest are better compared to the Linear Regression"
   ]
  },
  {
   "cell_type": "code",
   "execution_count": 59,
   "metadata": {},
   "outputs": [
    {
     "data": {
      "text/plain": [
       "array([0.01010432, 0.00807092, 0.03132537, ..., 0.00493805, 0.0029402 ,\n",
       "       0.02177313])"
      ]
     },
     "execution_count": 59,
     "metadata": {},
     "output_type": "execute_result"
    }
   ],
   "source": [
    "modelRF= RF_pipe.named_steps['randomforestregressor']\n",
    "modelRF.feature_importances_\n",
    "\n"
   ]
  },
  {
   "cell_type": "code",
   "execution_count": 93,
   "metadata": {},
   "outputs": [
    {
     "data": {
      "text/plain": [
       "[DecisionTreeRegressor(max_features=1.0, random_state=487429255),\n",
       " DecisionTreeRegressor(max_features=1.0, random_state=1510786950),\n",
       " DecisionTreeRegressor(max_features=1.0, random_state=2037889351),\n",
       " DecisionTreeRegressor(max_features=1.0, random_state=1759522056),\n",
       " DecisionTreeRegressor(max_features=1.0, random_state=982407752),\n",
       " DecisionTreeRegressor(max_features=1.0, random_state=1389126323),\n",
       " DecisionTreeRegressor(max_features=1.0, random_state=1509542736),\n",
       " DecisionTreeRegressor(max_features=1.0, random_state=1598000151),\n",
       " DecisionTreeRegressor(max_features=1.0, random_state=891657275),\n",
       " DecisionTreeRegressor(max_features=1.0, random_state=2054109904),\n",
       " DecisionTreeRegressor(max_features=1.0, random_state=1286791943),\n",
       " DecisionTreeRegressor(max_features=1.0, random_state=1860397127),\n",
       " DecisionTreeRegressor(max_features=1.0, random_state=625183405),\n",
       " DecisionTreeRegressor(max_features=1.0, random_state=1698958449),\n",
       " DecisionTreeRegressor(max_features=1.0, random_state=1780691767),\n",
       " DecisionTreeRegressor(max_features=1.0, random_state=1316356658),\n",
       " DecisionTreeRegressor(max_features=1.0, random_state=884896474),\n",
       " DecisionTreeRegressor(max_features=1.0, random_state=990443890),\n",
       " DecisionTreeRegressor(max_features=1.0, random_state=1059351019),\n",
       " DecisionTreeRegressor(max_features=1.0, random_state=577230913),\n",
       " DecisionTreeRegressor(max_features=1.0, random_state=1099479127),\n",
       " DecisionTreeRegressor(max_features=1.0, random_state=60166523),\n",
       " DecisionTreeRegressor(max_features=1.0, random_state=103127988),\n",
       " DecisionTreeRegressor(max_features=1.0, random_state=1716241992),\n",
       " DecisionTreeRegressor(max_features=1.0, random_state=424024745),\n",
       " DecisionTreeRegressor(max_features=1.0, random_state=1522299378),\n",
       " DecisionTreeRegressor(max_features=1.0, random_state=1290364649),\n",
       " DecisionTreeRegressor(max_features=1.0, random_state=1127905601),\n",
       " DecisionTreeRegressor(max_features=1.0, random_state=604970549),\n",
       " DecisionTreeRegressor(max_features=1.0, random_state=221686320),\n",
       " DecisionTreeRegressor(max_features=1.0, random_state=1383872585),\n",
       " DecisionTreeRegressor(max_features=1.0, random_state=1002563292),\n",
       " DecisionTreeRegressor(max_features=1.0, random_state=796691234),\n",
       " DecisionTreeRegressor(max_features=1.0, random_state=1159058368),\n",
       " DecisionTreeRegressor(max_features=1.0, random_state=1791832642),\n",
       " DecisionTreeRegressor(max_features=1.0, random_state=1237258990),\n",
       " DecisionTreeRegressor(max_features=1.0, random_state=1163595999),\n",
       " DecisionTreeRegressor(max_features=1.0, random_state=845663441),\n",
       " DecisionTreeRegressor(max_features=1.0, random_state=1174879236),\n",
       " DecisionTreeRegressor(max_features=1.0, random_state=40383651),\n",
       " DecisionTreeRegressor(max_features=1.0, random_state=1951687604),\n",
       " DecisionTreeRegressor(max_features=1.0, random_state=1313907813),\n",
       " DecisionTreeRegressor(max_features=1.0, random_state=545952905),\n",
       " DecisionTreeRegressor(max_features=1.0, random_state=1817810873),\n",
       " DecisionTreeRegressor(max_features=1.0, random_state=1061994438),\n",
       " DecisionTreeRegressor(max_features=1.0, random_state=1567964886),\n",
       " DecisionTreeRegressor(max_features=1.0, random_state=22496847),\n",
       " DecisionTreeRegressor(max_features=1.0, random_state=57000097),\n",
       " DecisionTreeRegressor(max_features=1.0, random_state=1532403995),\n",
       " DecisionTreeRegressor(max_features=1.0, random_state=1113659413),\n",
       " DecisionTreeRegressor(max_features=1.0, random_state=841625491),\n",
       " DecisionTreeRegressor(max_features=1.0, random_state=553659517),\n",
       " DecisionTreeRegressor(max_features=1.0, random_state=227743659),\n",
       " DecisionTreeRegressor(max_features=1.0, random_state=205991370),\n",
       " DecisionTreeRegressor(max_features=1.0, random_state=1869323513),\n",
       " DecisionTreeRegressor(max_features=1.0, random_state=1623364778),\n",
       " DecisionTreeRegressor(max_features=1.0, random_state=54217656),\n",
       " DecisionTreeRegressor(max_features=1.0, random_state=2068109803),\n",
       " DecisionTreeRegressor(max_features=1.0, random_state=762837993),\n",
       " DecisionTreeRegressor(max_features=1.0, random_state=1759450317),\n",
       " DecisionTreeRegressor(max_features=1.0, random_state=158337348),\n",
       " DecisionTreeRegressor(max_features=1.0, random_state=1741601987),\n",
       " DecisionTreeRegressor(max_features=1.0, random_state=1260400341),\n",
       " DecisionTreeRegressor(max_features=1.0, random_state=122644054),\n",
       " DecisionTreeRegressor(max_features=1.0, random_state=45535460),\n",
       " DecisionTreeRegressor(max_features=1.0, random_state=1943311084),\n",
       " DecisionTreeRegressor(max_features=1.0, random_state=1648411551),\n",
       " DecisionTreeRegressor(max_features=1.0, random_state=1489685594),\n",
       " DecisionTreeRegressor(max_features=1.0, random_state=671778611),\n",
       " DecisionTreeRegressor(max_features=1.0, random_state=1400745185),\n",
       " DecisionTreeRegressor(max_features=1.0, random_state=1899474938),\n",
       " DecisionTreeRegressor(max_features=1.0, random_state=1473818452),\n",
       " DecisionTreeRegressor(max_features=1.0, random_state=1052032052),\n",
       " DecisionTreeRegressor(max_features=1.0, random_state=1507394204),\n",
       " DecisionTreeRegressor(max_features=1.0, random_state=1147660107),\n",
       " DecisionTreeRegressor(max_features=1.0, random_state=1837560834),\n",
       " DecisionTreeRegressor(max_features=1.0, random_state=1554189218),\n",
       " DecisionTreeRegressor(max_features=1.0, random_state=1330297488),\n",
       " DecisionTreeRegressor(max_features=1.0, random_state=113403835),\n",
       " DecisionTreeRegressor(max_features=1.0, random_state=137247771),\n",
       " DecisionTreeRegressor(max_features=1.0, random_state=201369417),\n",
       " DecisionTreeRegressor(max_features=1.0, random_state=1259285983),\n",
       " DecisionTreeRegressor(max_features=1.0, random_state=1110980602),\n",
       " DecisionTreeRegressor(max_features=1.0, random_state=799320720),\n",
       " DecisionTreeRegressor(max_features=1.0, random_state=750057377),\n",
       " DecisionTreeRegressor(max_features=1.0, random_state=1093223096),\n",
       " DecisionTreeRegressor(max_features=1.0, random_state=1549238756),\n",
       " DecisionTreeRegressor(max_features=1.0, random_state=979820447),\n",
       " DecisionTreeRegressor(max_features=1.0, random_state=602078256),\n",
       " DecisionTreeRegressor(max_features=1.0, random_state=652339919),\n",
       " DecisionTreeRegressor(max_features=1.0, random_state=1671080120),\n",
       " DecisionTreeRegressor(max_features=1.0, random_state=462790233),\n",
       " DecisionTreeRegressor(max_features=1.0, random_state=2026744986),\n",
       " DecisionTreeRegressor(max_features=1.0, random_state=338243452),\n",
       " DecisionTreeRegressor(max_features=1.0, random_state=2013596319),\n",
       " DecisionTreeRegressor(max_features=1.0, random_state=1862370438),\n",
       " DecisionTreeRegressor(max_features=1.0, random_state=625207430),\n",
       " DecisionTreeRegressor(max_features=1.0, random_state=1490924250),\n",
       " DecisionTreeRegressor(max_features=1.0, random_state=61223577),\n",
       " DecisionTreeRegressor(max_features=1.0, random_state=1583292053)]"
      ]
     },
     "execution_count": 93,
     "metadata": {},
     "output_type": "execute_result"
    }
   ],
   "source": [
    "RF_pipe['randomforestregressor'].estimators_"
   ]
  },
  {
   "cell_type": "code",
   "execution_count": 60,
   "metadata": {},
   "outputs": [
    {
     "data": {
      "text/plain": [
       "Text(0.5, 1.0, 'Best Random Forest regressor feature importances')"
      ]
     },
     "execution_count": 60,
     "metadata": {},
     "output_type": "execute_result"
    },
    {
     "data": {
      "image/png": "[encoded data removed]",
      "text/plain": [
       "<Figure size 640x480 with 1 Axes>"
      ]
     },
     "metadata": {},
     "output_type": "display_data"
    }
   ],
   "source": [
    "imps = modelRF.feature_importances_\n",
    "imps[0:10]\n",
    "gb_feat_imps = pd.Series(imps, index=X_train.columns).sort_values(ascending=False)[0:10]\n",
    "gb_feat_imps.plot(kind='bar')\n",
    "plt.xlabel('features')\n",
    "plt.ylabel('importance')\n",
    "plt.title('Best Random Forest regressor feature importances')"
   ]
  },
  {
   "cell_type": "markdown",
   "metadata": {},
   "source": [
    "Some positive features include, having a g rating, having a school theme, the source being original or manga, being a shounen show, being a tv show, being licesensed by either Aniplex or Sentai Filmworks, and having eitehr a genre of Avant garde or action"
   ]
  },
  {
   "cell_type": "markdown",
   "metadata": {},
   "source": [
    "## Gradient Boosting"
   ]
  },
  {
   "cell_type": "code",
   "execution_count": 61,
   "metadata": {},
   "outputs": [],
   "source": [
    "from sklearn.ensemble import GradientBoostingRegressor\n",
    "\n",
    "\n",
    "gb_pipe = make_pipeline(\n",
    "    SimpleImputer(strategy='median'),\n",
    "    GradientBoostingRegressor(random_state=47)\n",
    ")"
   ]
  },
  {
   "cell_type": "code",
   "execution_count": 62,
   "metadata": {},
   "outputs": [
    {
     "data": {
      "text/html": [
       "<style>#sk-container-id-8 {color: black;background-color: white;}#sk-container-id-8 pre{padding: 0;}#sk-container-id-8 div.sk-toggleable {background-color: white;}#sk-container-id-8 label.sk-toggleable__label {cursor: pointer;display: block;width: 100%;margin-bottom: 0;padding: 0.3em;box-sizing: border-box;text-align: center;}#sk-container-id-8 label.sk-toggleable__label-arrow:before {content: \"▸\";float: left;margin-right: 0.25em;color: #696969;}#sk-container-id-8 label.sk-toggleable__label-arrow:hover:before {color: black;}#sk-container-id-8 div.sk-estimator:hover label.sk-toggleable__label-arrow:before {color: black;}#sk-container-id-8 div.sk-toggleable__content {max-height: 0;max-width: 0;overflow: hidden;text-align: left;background-color: #f0f8ff;}#sk-container-id-8 div.sk-toggleable__content pre {margin: 0.2em;color: black;border-radius: 0.25em;background-color: #f0f8ff;}#sk-container-id-8 input.sk-toggleable__control:checked~div.sk-toggleable__content {max-height: 200px;max-width: 100%;overflow: auto;}#sk-container-id-8 input.sk-toggleable__control:checked~label.sk-toggleable__label-arrow:before {content: \"▾\";}#sk-container-id-8 div.sk-estimator input.sk-toggleable__control:checked~label.sk-toggleable__label {background-color: #d4ebff;}#sk-container-id-8 div.sk-label input.sk-toggleable__control:checked~label.sk-toggleable__label {background-color: #d4ebff;}#sk-container-id-8 input.sk-hidden--visually {border: 0;clip: rect(1px 1px 1px 1px);clip: rect(1px, 1px, 1px, 1px);height: 1px;margin: -1px;overflow: hidden;padding: 0;position: absolute;width: 1px;}#sk-container-id-8 div.sk-estimator {font-family: monospace;background-color: #f0f8ff;border: 1px dotted black;border-radius: 0.25em;box-sizing: border-box;margin-bottom: 0.5em;}#sk-container-id-8 div.sk-estimator:hover {background-color: #d4ebff;}#sk-container-id-8 div.sk-parallel-item::after {content: \"\";width: 100%;border-bottom: 1px solid gray;flex-grow: 1;}#sk-container-id-8 div.sk-label:hover label.sk-toggleable__label {background-color: #d4ebff;}#sk-container-id-8 div.sk-serial::before {content: \"\";position: absolute;border-left: 1px solid gray;box-sizing: border-box;top: 0;bottom: 0;left: 50%;z-index: 0;}#sk-container-id-8 div.sk-serial {display: flex;flex-direction: column;align-items: center;background-color: white;padding-right: 0.2em;padding-left: 0.2em;position: relative;}#sk-container-id-8 div.sk-item {position: relative;z-index: 1;}#sk-container-id-8 div.sk-parallel {display: flex;align-items: stretch;justify-content: center;background-color: white;position: relative;}#sk-container-id-8 div.sk-item::before, #sk-container-id-8 div.sk-parallel-item::before {content: \"\";position: absolute;border-left: 1px solid gray;box-sizing: border-box;top: 0;bottom: 0;left: 50%;z-index: -1;}#sk-container-id-8 div.sk-parallel-item {display: flex;flex-direction: column;z-index: 1;position: relative;background-color: white;}#sk-container-id-8 div.sk-parallel-item:first-child::after {align-self: flex-end;width: 50%;}#sk-container-id-8 div.sk-parallel-item:last-child::after {align-self: flex-start;width: 50%;}#sk-container-id-8 div.sk-parallel-item:only-child::after {width: 0;}#sk-container-id-8 div.sk-dashed-wrapped {border: 1px dashed gray;margin: 0 0.4em 0.5em 0.4em;box-sizing: border-box;padding-bottom: 0.4em;background-color: white;}#sk-container-id-8 div.sk-label label {font-family: monospace;font-weight: bold;display: inline-block;line-height: 1.2em;}#sk-container-id-8 div.sk-label-container {text-align: center;}#sk-container-id-8 div.sk-container {/* jupyter's `normalize.less` sets `[hidden] { display: none; }` but bootstrap.min.css set `[hidden] { display: none !important; }` so we also need the `!important` here to be able to override the default hidden behavior on the sphinx rendered scikit-learn.org. See: https://github.com/scikit-learn/scikit-learn/issues/21755 */display: inline-block !important;position: relative;}#sk-container-id-8 div.sk-text-repr-fallback {display: none;}</style><div id=\"sk-container-id-8\" class=\"sk-top-container\"><div class=\"sk-text-repr-fallback\"><pre>Pipeline(steps=[(&#x27;simpleimputer&#x27;, SimpleImputer(strategy=&#x27;median&#x27;)),\n",
       "                (&#x27;gradientboostingregressor&#x27;,\n",
       "                 GradientBoostingRegressor(random_state=47))])</pre><b>In a Jupyter environment, please rerun this cell to show the HTML representation or trust the notebook. <br />On GitHub, the HTML representation is unable to render, please try loading this page with nbviewer.org.</b></div><div class=\"sk-container\" hidden><div class=\"sk-item sk-dashed-wrapped\"><div class=\"sk-label-container\"><div class=\"sk-label sk-toggleable\"><input class=\"sk-toggleable__control sk-hidden--visually\" id=\"sk-estimator-id-27\" type=\"checkbox\" ><label for=\"sk-estimator-id-27\" class=\"sk-toggleable__label sk-toggleable__label-arrow\">Pipeline</label><div class=\"sk-toggleable__content\"><pre>Pipeline(steps=[(&#x27;simpleimputer&#x27;, SimpleImputer(strategy=&#x27;median&#x27;)),\n",
       "                (&#x27;gradientboostingregressor&#x27;,\n",
       "                 GradientBoostingRegressor(random_state=47))])</pre></div></div></div><div class=\"sk-serial\"><div class=\"sk-item\"><div class=\"sk-estimator sk-toggleable\"><input class=\"sk-toggleable__control sk-hidden--visually\" id=\"sk-estimator-id-28\" type=\"checkbox\" ><label for=\"sk-estimator-id-28\" class=\"sk-toggleable__label sk-toggleable__label-arrow\">SimpleImputer</label><div class=\"sk-toggleable__content\"><pre>SimpleImputer(strategy=&#x27;median&#x27;)</pre></div></div></div><div class=\"sk-item\"><div class=\"sk-estimator sk-toggleable\"><input class=\"sk-toggleable__control sk-hidden--visually\" id=\"sk-estimator-id-29\" type=\"checkbox\" ><label for=\"sk-estimator-id-29\" class=\"sk-toggleable__label sk-toggleable__label-arrow\">GradientBoostingRegressor</label><div class=\"sk-toggleable__content\"><pre>GradientBoostingRegressor(random_state=47)</pre></div></div></div></div></div></div></div>"
      ],
      "text/plain": [
       "Pipeline(steps=[('simpleimputer', SimpleImputer(strategy='median')),\n",
       "                ('gradientboostingregressor',\n",
       "                 GradientBoostingRegressor(random_state=47))])"
      ]
     },
     "execution_count": 62,
     "metadata": {},
     "output_type": "execute_result"
    }
   ],
   "source": [
    "gb_pipe.fit(X_train,y_train)"
   ]
  },
  {
   "cell_type": "code",
   "execution_count": 69,
   "metadata": {},
   "outputs": [],
   "source": [
    "yGB_tr_pred = gb_pipe.predict(X_train)\n",
    "yGB_te_pred = gb_pipe.predict(X_test)"
   ]
  },
  {
   "cell_type": "code",
   "execution_count": 70,
   "metadata": {},
   "outputs": [
    {
     "name": "stdout",
     "output_type": "stream",
     "text": [
      "Training set R2 score:  0.48577398169000985\n",
      "Testing set R2 score:  0.46069815530344305\n"
     ]
    }
   ],
   "source": [
    "#higher the better\n",
    "print(\"Training set R2 score: \",r2_score(y_train, yGB_tr_pred))\n",
    "print(\"Testing set R2 score: \",r2_score(y_test, yGB_te_pred))"
   ]
  },
  {
   "cell_type": "code",
   "execution_count": 72,
   "metadata": {},
   "outputs": [
    {
     "name": "stdout",
     "output_type": "stream",
     "text": [
      "MAE of training set:  0.5085027012782941\n",
      "MAE of testing set:  0.5165676029457434\n"
     ]
    }
   ],
   "source": [
    "# lower the better\n",
    "print(\"MAE of training set: \",mean_absolute_error(y_train, yGB_tr_pred)) \n",
    "print(\"MAE of testing set: \",mean_absolute_error(y_test, yGB_te_pred))"
   ]
  },
  {
   "cell_type": "code",
   "execution_count": 73,
   "metadata": {},
   "outputs": [
    {
     "name": "stdout",
     "output_type": "stream",
     "text": [
      "RMSE of training set:  0.6466633969881126\n",
      "RMSE of the testing set:  0.6622612132400166\n"
     ]
    }
   ],
   "source": [
    "print(\"RMSE of training set: \", np.sqrt(mean_squared_error(y_train, yGB_tr_pred)))\n",
    "print(\"RMSE of the testing set: \", np.sqrt(mean_squared_error(y_test, yGB_te_pred)))"
   ]
  },
  {
   "cell_type": "markdown",
   "metadata": {},
   "source": [
    "So far it seems that the random Forest has the best metrics in terms of having higher R2 scores, having a lower MAE scores and RMSE is also lower on RF. However, Gradient boosting has similar results for both the training and test scores, which is good, however this could be because the sample sized used was too small"
   ]
  },
  {
   "cell_type": "markdown",
   "metadata": {},
   "source": [
    "Let's check out our cross validation scores"
   ]
  },
  {
   "cell_type": "code",
   "execution_count": 74,
   "metadata": {},
   "outputs": [],
   "source": [
    "gb_cv_scores_test= cross_val_score(gb_pipe, X_test, y_test, cv=5)\n",
    "gb_cv_scores_train= cross_val_score(gb_pipe, X_train, y_train, cv=5)"
   ]
  },
  {
   "cell_type": "code",
   "execution_count": 75,
   "metadata": {},
   "outputs": [],
   "source": [
    "cv_scores_gb_test= gb_cv_scores_test.mean()\n",
    "cv_scores_gb_train= gb_cv_scores_train.mean()\n",
    "cv_scores_std_test_gb= gb_cv_scores_test.std()"
   ]
  },
  {
   "cell_type": "code",
   "execution_count": 76,
   "metadata": {},
   "outputs": [
    {
     "name": "stdout",
     "output_type": "stream",
     "text": [
      "Mean cross validation test score: 0.4479875912877991\n",
      "Mean cross validation train score: 0.4490223571670904\n",
      "Standard deviation in cv test scores: 0.015564062712679511\n"
     ]
    }
   ],
   "source": [
    "print ('Mean cross validation test score: ' +str(cv_scores_gb_test))\n",
    "print ('Mean cross validation train score: ' +str(cv_scores_gb_train))\n",
    "print ('Standard deviation in cv test scores: ' +str(cv_scores_std_test_gb))"
   ]
  },
  {
   "cell_type": "code",
   "execution_count": 103,
   "metadata": {},
   "outputs": [
    {
     "data": {
      "text/plain": [
       "array([0.00310514, 0.0109079 , 0.05790247, ..., 0.00508785, 0.00051293,\n",
       "       0.03475011])"
      ]
     },
     "execution_count": 103,
     "metadata": {},
     "output_type": "execute_result"
    }
   ],
   "source": [
    "modelgb= gb_pipe.named_steps['gradientboostingregressor']\n",
    "modelgb.feature_importances_"
   ]
  },
  {
   "cell_type": "code",
   "execution_count": 115,
   "metadata": {},
   "outputs": [
    {
     "data": {
      "text/plain": [
       "Text(0.5, 1.0, 'Best Gradient Boosting regressor feature importances')"
      ]
     },
     "execution_count": 115,
     "metadata": {},
     "output_type": "execute_result"
    },
    {
     "data": {
      "image/png": "[encoded data removed]",
      "text/plain": [
       "<Figure size 640x480 with 1 Axes>"
      ]
     },
     "metadata": {},
     "output_type": "display_data"
    }
   ],
   "source": [
    "imps = modelgb.feature_importances_\n",
    "imps[0:10]\n",
    "gb_feat_imps = pd.Series(imps, index=X_train.columns).sort_values(ascending=False)[0:10]\n",
    "gb_feat_imps.plot(kind='bar')\n",
    "plt.xlabel('features')\n",
    "plt.ylabel('importance')\n",
    "plt.title('Best Gradient Boosting regressor feature importances')"
   ]
  },
  {
   "cell_type": "markdown",
   "metadata": {},
   "source": [
    "For the Gradient boosting Model, being a TV show, having a manga source and having either a g or pg13 rating, and being avant garde or drama will get higher scores "
   ]
  },
  {
   "cell_type": "markdown",
   "metadata": {},
   "source": [
    "Some of the high positive features match up with those from the ranomd forest model"
   ]
  },
  {
   "cell_type": "markdown",
   "metadata": {},
   "source": [
    "Based on what has been done, I would choose the random Forest Model, due to the slightly better metrics. Due to some time constraints as well as over hour long execution time I could not perform more in depth tuning of the models parameters.  "
   ]
  },
  {
   "cell_type": "code",
   "execution_count": 104,
   "metadata": {},
   "outputs": [
    {
     "name": "stdout",
     "output_type": "stream",
     "text": [
      "A file already exists with this name.\n",
      "\n",
      "Writing file.  \"../models\\animeRF_model.csv\"\n"
     ]
    }
   ],
   "source": [
    "best_model = pd.DataFrame(RF_pipe['randomforestregressor'].estimators_)\n",
    "modelpath = '../models'\n",
    "save_file(best_model, 'animeRF_model.csv', modelpath)"
   ]
  }
 ],
 "metadata": {
  "kernelspec": {
   "display_name": "base",
   "language": "python",
   "name": "python3"
  },
  "language_info": {
   "codemirror_mode": {
    "name": "ipython",
    "version": 3
   },
   "file_extension": ".py",
   "mimetype": "text/x-python",
   "name": "python",
   "nbconvert_exporter": "python",
   "pygments_lexer": "ipython3",
   "version": "3.11.7"
  }
 },
 "nbformat": 4,
 "nbformat_minor": 2
}
